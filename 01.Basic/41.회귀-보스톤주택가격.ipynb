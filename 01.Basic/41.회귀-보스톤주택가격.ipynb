{
  "cells": [
    {
      "cell_type": "code",
      "execution_count": 30,
      "metadata": {
        "id": "lk1kqycM20mq"
      },
      "outputs": [],
      "source": [
        "import numpy as np \n",
        "import pandas as pd \n",
        "import tensorflow as tf\n",
        "seed = 2021\n",
        "np.random.seed(seed)\n",
        "tf.random.set_seed(seed)"
      ]
    },
    {
      "cell_type": "markdown",
      "metadata": {},
      "source": []
    },
    {
      "cell_type": "code",
      "execution_count": 31,
      "metadata": {
        "id": "RRRkxfnz4HQp"
      },
      "outputs": [],
      "source": [
        "import warnings\n",
        "warnings.filterwarnings(\"ignore\")"
      ]
    },
    {
      "cell_type": "code",
      "execution_count": 32,
      "metadata": {
        "id": "iRKEXNLt21se"
      },
      "outputs": [],
      "source": [
        "from sklearn.datasets import load_boston\n",
        "boston = load_boston()"
      ]
    },
    {
      "cell_type": "code",
      "execution_count": 33,
      "metadata": {
        "colab": {
          "base_uri": "https://localhost:8080/"
        },
        "id": "g9rC3tT722wT",
        "outputId": "7e165d2c-4e34-408b-a53f-2ab9b6fdaded"
      },
      "outputs": [
        {
          "data": {
            "text/plain": [
              "((455, 13), (51, 13), (455,), (51,))"
            ]
          },
          "execution_count": 33,
          "metadata": {},
          "output_type": "execute_result"
        }
      ],
      "source": [
        "from sklearn.model_selection import train_test_split\n",
        "X_train, X_test, y_train, y_test = train_test_split(\n",
        "    boston.data, boston.target, test_size=0.1, random_state=seed\n",
        ")\n",
        "X_train.shape, X_test.shape, y_train.shape, y_test.shape"
      ]
    },
    {
      "cell_type": "markdown",
      "metadata": {
        "id": "a91Pae-t23wx"
      },
      "source": [
        "- 모델 정의/ 설정/ 학습"
      ]
    },
    {
      "cell_type": "code",
      "execution_count": 34,
      "metadata": {
        "id": "5b8XWIQ12qHX"
      },
      "outputs": [],
      "source": [
        "from tensorflow.keras.models import Sequential\n",
        "from tensorflow.keras.layers import Dense\n"
      ]
    },
    {
      "cell_type": "code",
      "execution_count": 40,
      "metadata": {
        "colab": {
          "base_uri": "https://localhost:8080/"
        },
        "id": "RIMYFU6g27Tv",
        "outputId": "6a3ba788-6f8c-4127-fef6-f73392491109"
      },
      "outputs": [
        {
          "name": "stdout",
          "output_type": "stream",
          "text": [
            "Model: \"sequential_5\"\n",
            "_________________________________________________________________\n",
            " Layer (type)                Output Shape              Param #   \n",
            "=================================================================\n",
            " dense_15 (Dense)            (None, 30)                420       \n",
            "                                                                 \n",
            " dense_16 (Dense)            (None, 12)                372       \n",
            "                                                                 \n",
            " dense_17 (Dense)            (None, 1)                 13        \n",
            "                                                                 \n",
            "=================================================================\n",
            "Total params: 805\n",
            "Trainable params: 805\n",
            "Non-trainable params: 0\n",
            "_________________________________________________________________\n"
          ]
        }
      ],
      "source": [
        "model = Sequential([\n",
        "    Dense(30, input_dim=13, activation='relu'),\n",
        "    Dense(12, activation='relu'),\n",
        "    Dense(1)                # 회귀인 경우 activation 함수를 지정하지 않음.\n",
        "])\n",
        "model.summary()"
      ]
    },
    {
      "cell_type": "code",
      "execution_count": 41,
      "metadata": {
        "id": "2S0wtIHn2_0B"
      },
      "outputs": [],
      "source": [
        "# 회귀인 경우 metrics를 지정하지 않음\n",
        "model.compile(optimizer='adam', loss='mean_squared_error')"
      ]
    },
    {
      "cell_type": "code",
      "execution_count": 37,
      "metadata": {
        "colab": {
          "base_uri": "https://localhost:8080/"
        },
        "id": "I71EQX2u2_xs",
        "outputId": "1c246917-d812-463d-a281-1c3a2975a6e8"
      },
      "outputs": [
        {
          "name": "stdout",
          "output_type": "stream",
          "text": [
            "Epoch 1/100\n",
            "8/8 [==============================] - 0s 3ms/step - loss: 4219.3501\n",
            "Epoch 2/100\n",
            "8/8 [==============================] - 0s 3ms/step - loss: 1868.0508\n",
            "Epoch 3/100\n",
            "8/8 [==============================] - 0s 3ms/step - loss: 729.7597\n",
            "Epoch 4/100\n",
            "8/8 [==============================] - 0s 3ms/step - loss: 313.3556\n",
            "Epoch 5/100\n",
            "8/8 [==============================] - 0s 3ms/step - loss: 267.5942\n",
            "Epoch 6/100\n",
            "8/8 [==============================] - 0s 2ms/step - loss: 228.1317\n",
            "Epoch 7/100\n",
            "8/8 [==============================] - 0s 3ms/step - loss: 158.0205\n",
            "Epoch 8/100\n",
            "8/8 [==============================] - 0s 3ms/step - loss: 129.9112\n",
            "Epoch 9/100\n",
            "8/8 [==============================] - 0s 4ms/step - loss: 115.7713\n",
            "Epoch 10/100\n",
            "8/8 [==============================] - 0s 2ms/step - loss: 101.8549\n",
            "Epoch 11/100\n",
            "8/8 [==============================] - 0s 3ms/step - loss: 93.9469\n",
            "Epoch 12/100\n",
            "8/8 [==============================] - 0s 2ms/step - loss: 89.4351\n",
            "Epoch 13/100\n",
            "8/8 [==============================] - 0s 3ms/step - loss: 85.8412\n",
            "Epoch 14/100\n",
            "8/8 [==============================] - 0s 3ms/step - loss: 82.7645\n",
            "Epoch 15/100\n",
            "8/8 [==============================] - 0s 3ms/step - loss: 80.9337\n",
            "Epoch 16/100\n",
            "8/8 [==============================] - 0s 2ms/step - loss: 79.0002\n",
            "Epoch 17/100\n",
            "8/8 [==============================] - 0s 3ms/step - loss: 77.2709\n",
            "Epoch 18/100\n",
            "8/8 [==============================] - 0s 3ms/step - loss: 76.1356\n",
            "Epoch 19/100\n",
            "8/8 [==============================] - 0s 3ms/step - loss: 74.7619\n",
            "Epoch 20/100\n",
            "8/8 [==============================] - 0s 2ms/step - loss: 73.4406\n",
            "Epoch 21/100\n",
            "8/8 [==============================] - 0s 3ms/step - loss: 72.4134\n",
            "Epoch 22/100\n",
            "8/8 [==============================] - 0s 3ms/step - loss: 71.4118\n",
            "Epoch 23/100\n",
            "8/8 [==============================] - 0s 2ms/step - loss: 70.3314\n",
            "Epoch 24/100\n",
            "8/8 [==============================] - 0s 2ms/step - loss: 69.4553\n",
            "Epoch 25/100\n",
            "8/8 [==============================] - 0s 3ms/step - loss: 68.5556\n",
            "Epoch 26/100\n",
            "8/8 [==============================] - 0s 2ms/step - loss: 67.7862\n",
            "Epoch 27/100\n",
            "8/8 [==============================] - 0s 3ms/step - loss: 67.1048\n",
            "Epoch 28/100\n",
            "8/8 [==============================] - 0s 2ms/step - loss: 66.3048\n",
            "Epoch 29/100\n",
            "8/8 [==============================] - 0s 3ms/step - loss: 65.7023\n",
            "Epoch 30/100\n",
            "8/8 [==============================] - 0s 5ms/step - loss: 65.3232\n",
            "Epoch 31/100\n",
            "8/8 [==============================] - 0s 3ms/step - loss: 64.9740\n",
            "Epoch 32/100\n",
            "8/8 [==============================] - 0s 2ms/step - loss: 64.0459\n",
            "Epoch 33/100\n",
            "8/8 [==============================] - 0s 2ms/step - loss: 63.3754\n",
            "Epoch 34/100\n",
            "8/8 [==============================] - 0s 2ms/step - loss: 63.0414\n",
            "Epoch 35/100\n",
            "8/8 [==============================] - 0s 3ms/step - loss: 62.3867\n",
            "Epoch 36/100\n",
            "8/8 [==============================] - 0s 3ms/step - loss: 61.9469\n",
            "Epoch 37/100\n",
            "8/8 [==============================] - 0s 3ms/step - loss: 61.6053\n",
            "Epoch 38/100\n",
            "8/8 [==============================] - 0s 3ms/step - loss: 61.0744\n",
            "Epoch 39/100\n",
            "8/8 [==============================] - 0s 3ms/step - loss: 60.7996\n",
            "Epoch 40/100\n",
            "8/8 [==============================] - 0s 3ms/step - loss: 60.1870\n",
            "Epoch 41/100\n",
            "8/8 [==============================] - 0s 3ms/step - loss: 60.1840\n",
            "Epoch 42/100\n",
            "8/8 [==============================] - 0s 2ms/step - loss: 59.4948\n",
            "Epoch 43/100\n",
            "8/8 [==============================] - 0s 2ms/step - loss: 59.2439\n",
            "Epoch 44/100\n",
            "8/8 [==============================] - 0s 3ms/step - loss: 58.7921\n",
            "Epoch 45/100\n",
            "8/8 [==============================] - 0s 2ms/step - loss: 58.4091\n",
            "Epoch 46/100\n",
            "8/8 [==============================] - 0s 2ms/step - loss: 57.9282\n",
            "Epoch 47/100\n",
            "8/8 [==============================] - 0s 3ms/step - loss: 57.9504\n",
            "Epoch 48/100\n",
            "8/8 [==============================] - 0s 3ms/step - loss: 57.3395\n",
            "Epoch 49/100\n",
            "8/8 [==============================] - 0s 3ms/step - loss: 57.2109\n",
            "Epoch 50/100\n",
            "8/8 [==============================] - 0s 3ms/step - loss: 56.9482\n",
            "Epoch 51/100\n",
            "8/8 [==============================] - 0s 3ms/step - loss: 56.6459\n",
            "Epoch 52/100\n",
            "8/8 [==============================] - 0s 3ms/step - loss: 56.1040\n",
            "Epoch 53/100\n",
            "8/8 [==============================] - 0s 3ms/step - loss: 56.3386\n",
            "Epoch 54/100\n",
            "8/8 [==============================] - 0s 2ms/step - loss: 55.4009\n",
            "Epoch 55/100\n",
            "8/8 [==============================] - 0s 3ms/step - loss: 55.1013\n",
            "Epoch 56/100\n",
            "8/8 [==============================] - 0s 3ms/step - loss: 54.9990\n",
            "Epoch 57/100\n",
            "8/8 [==============================] - 0s 3ms/step - loss: 54.5155\n",
            "Epoch 58/100\n",
            "8/8 [==============================] - 0s 3ms/step - loss: 54.0118\n",
            "Epoch 59/100\n",
            "8/8 [==============================] - 0s 3ms/step - loss: 53.7675\n",
            "Epoch 60/100\n",
            "8/8 [==============================] - 0s 2ms/step - loss: 53.4234\n",
            "Epoch 61/100\n",
            "8/8 [==============================] - 0s 2ms/step - loss: 53.0864\n",
            "Epoch 62/100\n",
            "8/8 [==============================] - 0s 3ms/step - loss: 52.7785\n",
            "Epoch 63/100\n",
            "8/8 [==============================] - 0s 3ms/step - loss: 52.6115\n",
            "Epoch 64/100\n",
            "8/8 [==============================] - 0s 3ms/step - loss: 52.3712\n",
            "Epoch 65/100\n",
            "8/8 [==============================] - 0s 3ms/step - loss: 52.1062\n",
            "Epoch 66/100\n",
            "8/8 [==============================] - 0s 3ms/step - loss: 51.8025\n",
            "Epoch 67/100\n",
            "8/8 [==============================] - 0s 3ms/step - loss: 51.3333\n",
            "Epoch 68/100\n",
            "8/8 [==============================] - 0s 3ms/step - loss: 51.0895\n",
            "Epoch 69/100\n",
            "8/8 [==============================] - 0s 3ms/step - loss: 50.8774\n",
            "Epoch 70/100\n",
            "8/8 [==============================] - 0s 3ms/step - loss: 50.6514\n",
            "Epoch 71/100\n",
            "8/8 [==============================] - 0s 3ms/step - loss: 50.7527\n",
            "Epoch 72/100\n",
            "8/8 [==============================] - 0s 3ms/step - loss: 50.5801\n",
            "Epoch 73/100\n",
            "8/8 [==============================] - 0s 3ms/step - loss: 49.6880\n",
            "Epoch 74/100\n",
            "8/8 [==============================] - 0s 3ms/step - loss: 49.8774\n",
            "Epoch 75/100\n",
            "8/8 [==============================] - 0s 3ms/step - loss: 49.4562\n",
            "Epoch 76/100\n",
            "8/8 [==============================] - 0s 3ms/step - loss: 49.0453\n",
            "Epoch 77/100\n",
            "8/8 [==============================] - 0s 3ms/step - loss: 48.6931\n",
            "Epoch 78/100\n",
            "8/8 [==============================] - 0s 3ms/step - loss: 48.4292\n",
            "Epoch 79/100\n",
            "8/8 [==============================] - 0s 3ms/step - loss: 48.0798\n",
            "Epoch 80/100\n",
            "8/8 [==============================] - 0s 3ms/step - loss: 47.8970\n",
            "Epoch 81/100\n",
            "8/8 [==============================] - 0s 4ms/step - loss: 48.1725\n",
            "Epoch 82/100\n",
            "8/8 [==============================] - 0s 2ms/step - loss: 47.6531\n",
            "Epoch 83/100\n",
            "8/8 [==============================] - 0s 3ms/step - loss: 47.0616\n",
            "Epoch 84/100\n",
            "8/8 [==============================] - 0s 3ms/step - loss: 46.9467\n",
            "Epoch 85/100\n",
            "8/8 [==============================] - 0s 2ms/step - loss: 46.4852\n",
            "Epoch 86/100\n",
            "8/8 [==============================] - 0s 3ms/step - loss: 46.3018\n",
            "Epoch 87/100\n",
            "8/8 [==============================] - 0s 2ms/step - loss: 45.9791\n",
            "Epoch 88/100\n",
            "8/8 [==============================] - 0s 2ms/step - loss: 46.3739\n",
            "Epoch 89/100\n",
            "8/8 [==============================] - 0s 4ms/step - loss: 46.2874\n",
            "Epoch 90/100\n",
            "8/8 [==============================] - 0s 3ms/step - loss: 45.1679\n",
            "Epoch 91/100\n",
            "8/8 [==============================] - 0s 3ms/step - loss: 45.3202\n",
            "Epoch 92/100\n",
            "8/8 [==============================] - 0s 3ms/step - loss: 44.9307\n",
            "Epoch 93/100\n",
            "8/8 [==============================] - 0s 3ms/step - loss: 44.7537\n",
            "Epoch 94/100\n",
            "8/8 [==============================] - 0s 3ms/step - loss: 44.4277\n",
            "Epoch 95/100\n",
            "8/8 [==============================] - 0s 2ms/step - loss: 44.4707\n",
            "Epoch 96/100\n",
            "8/8 [==============================] - 0s 2ms/step - loss: 43.7937\n",
            "Epoch 97/100\n",
            "8/8 [==============================] - 0s 3ms/step - loss: 43.5801\n",
            "Epoch 98/100\n",
            "8/8 [==============================] - 0s 3ms/step - loss: 43.3638\n",
            "Epoch 99/100\n",
            "8/8 [==============================] - 0s 3ms/step - loss: 43.0619\n",
            "Epoch 100/100\n",
            "8/8 [==============================] - 0s 3ms/step - loss: 42.8787\n"
          ]
        }
      ],
      "source": [
        "hist = model.fit(X_train, y_train, epochs=100, batch_size=60, verbose=0) # validation_split = 주면 뒤에 뭐 나옴"
      ]
    },
    {
      "cell_type": "code",
      "execution_count": 38,
      "metadata": {
        "id": "Mx3iQKJ75LIr"
      },
      "outputs": [],
      "source": [
        "del model # (다시 돌리기 전에 꼭 전 모델 삭제해주기)"
      ]
    },
    {
      "cell_type": "code",
      "execution_count": 42,
      "metadata": {
        "id": "ezKYQpIG6Cxp"
      },
      "outputs": [],
      "source": [
        "hist = model.fit(X_train, y_train, validation_split=0.1, epochs=500, batch_size=60, verbose = 0)\n",
        "# verbose = 0 하면 돌아가는 중에 화면에 안 뜸"
      ]
    },
    {
      "cell_type": "markdown",
      "metadata": {
        "id": "JfbTmubx6VbJ"
      },
      "source": [
        "- 학습과정 시각화"
      ]
    },
    {
      "cell_type": "code",
      "execution_count": 43,
      "metadata": {
        "id": "x6iRroOh6KYh"
      },
      "outputs": [],
      "source": [
        "y_loss = hist.history['loss']\n",
        "y_vloss = hist.history['val_loss']\n",
        "xs = np.arange(1, len(y_loss)+1)"
      ]
    },
    {
      "cell_type": "code",
      "execution_count": 44,
      "metadata": {
        "colab": {
          "base_uri": "https://localhost:8080/",
          "height": 497
        },
        "id": "fVKaK3Ap6pxZ",
        "outputId": "5f918fa8-6a32-4730-ab62-5a3abc10c133"
      },
      "outputs": [
        {
          "data": {
            "image/png": "[encoded data removed]",
            "text/plain": [
              "<Figure size 864x576 with 1 Axes>"
            ]
          },
          "metadata": {
            "needs_background": "light"
          },
          "output_type": "display_data"
        }
      ],
      "source": [
        "import matplotlib.pyplot as plt\n",
        "plt.figure(figsize=(12,8))\n",
        "plt.plot(xs, y_loss, label='Train loss')\n",
        "plt.plot(xs, y_vloss, label='Validation loss')\n",
        "plt.legend()\n",
        "plt.xlabel('Epoch')\n",
        "plt.grid()\n",
        "plt.show()"
      ]
    },
    {
      "cell_type": "markdown",
      "metadata": {
        "id": "qqz2ZdIH8XpI"
      },
      "source": [
        "- 평가 및 예측"
      ]
    },
    {
      "cell_type": "code",
      "execution_count": 45,
      "metadata": {
        "colab": {
          "base_uri": "https://localhost:8080/"
        },
        "id": "_B0uG24z7U2V",
        "outputId": "bb41aa54-1074-4f89-8aea-5dcd894cf30f"
      },
      "outputs": [
        {
          "name": "stdout",
          "output_type": "stream",
          "text": [
            "2/2 [==============================] - 0s 6ms/step - loss: 34.4332\n"
          ]
        },
        {
          "data": {
            "text/plain": [
              "34.43317794799805"
            ]
          },
          "execution_count": 45,
          "metadata": {},
          "output_type": "execute_result"
        }
      ],
      "source": [
        "model.evaluate(X_test, y_test)"
      ]
    },
    {
      "cell_type": "code",
      "execution_count": 46,
      "metadata": {
        "id": "rWTm02lk8lDb"
      },
      "outputs": [],
      "source": [
        "pred = model.predict(X_test)"
      ]
    },
    {
      "cell_type": "code",
      "execution_count": 47,
      "metadata": {
        "colab": {
          "base_uri": "https://localhost:8080/"
        },
        "id": "OXmQ1TbR8vOY",
        "outputId": "21c01a20-da49-41ae-e521-db73256c0c29"
      },
      "outputs": [
        {
          "data": {
            "text/plain": [
              "(34.43317364055536, 0.5301980044002186)"
            ]
          },
          "execution_count": 47,
          "metadata": {},
          "output_type": "execute_result"
        }
      ],
      "source": [
        "from sklearn.metrics import r2_score, mean_squared_error\n",
        "mse = mean_squared_error(y_test, pred)\n",
        "r2 = r2_score(y_test, pred)\n",
        "mse, r2"
      ]
    },
    {
      "cell_type": "code",
      "execution_count": 48,
      "metadata": {
        "colab": {
          "base_uri": "https://localhost:8080/",
          "height": 363
        },
        "id": "tej_IWrX9h1S",
        "outputId": "238d06ed-368d-4bf2-f552-227c333bf58f"
      },
      "outputs": [
        {
          "data": {
            "text/html": [
              "\n",
              "  <div id=\"df-f164e364-fe6d-45cc-a53b-19dcf85e7840\">\n",
              "    <div class=\"colab-df-container\">\n",
              "      <div>\n",
              "<style scoped>\n",
              "    .dataframe tbody tr th:only-of-type {\n",
              "        vertical-align: middle;\n",
              "    }\n",
              "\n",
              "    .dataframe tbody tr th {\n",
              "        vertical-align: top;\n",
              "    }\n",
              "\n",
              "    .dataframe thead th {\n",
              "        text-align: right;\n",
              "    }\n",
              "</style>\n",
              "<table border=\"1\" class=\"dataframe\">\n",
              "  <thead>\n",
              "    <tr style=\"text-align: right;\">\n",
              "      <th></th>\n",
              "      <th>y_test</th>\n",
              "      <th>pred</th>\n",
              "    </tr>\n",
              "  </thead>\n",
              "  <tbody>\n",
              "    <tr>\n",
              "      <th>0</th>\n",
              "      <td>21.7</td>\n",
              "      <td>19.682280</td>\n",
              "    </tr>\n",
              "    <tr>\n",
              "      <th>1</th>\n",
              "      <td>15.6</td>\n",
              "      <td>17.313007</td>\n",
              "    </tr>\n",
              "    <tr>\n",
              "      <th>2</th>\n",
              "      <td>20.0</td>\n",
              "      <td>19.598131</td>\n",
              "    </tr>\n",
              "    <tr>\n",
              "      <th>3</th>\n",
              "      <td>12.8</td>\n",
              "      <td>14.482709</td>\n",
              "    </tr>\n",
              "    <tr>\n",
              "      <th>4</th>\n",
              "      <td>50.0</td>\n",
              "      <td>34.637516</td>\n",
              "    </tr>\n",
              "    <tr>\n",
              "      <th>5</th>\n",
              "      <td>20.6</td>\n",
              "      <td>17.370272</td>\n",
              "    </tr>\n",
              "    <tr>\n",
              "      <th>6</th>\n",
              "      <td>22.6</td>\n",
              "      <td>25.067907</td>\n",
              "    </tr>\n",
              "    <tr>\n",
              "      <th>7</th>\n",
              "      <td>24.1</td>\n",
              "      <td>27.378750</td>\n",
              "    </tr>\n",
              "    <tr>\n",
              "      <th>8</th>\n",
              "      <td>24.4</td>\n",
              "      <td>18.913342</td>\n",
              "    </tr>\n",
              "    <tr>\n",
              "      <th>9</th>\n",
              "      <td>36.1</td>\n",
              "      <td>34.103523</td>\n",
              "    </tr>\n",
              "  </tbody>\n",
              "</table>\n",
              "</div>\n",
              "      <button class=\"colab-df-convert\" onclick=\"convertToInteractive('df-f164e364-fe6d-45cc-a53b-19dcf85e7840')\"\n",
              "              title=\"Convert this dataframe to an interactive table.\"\n",
              "              style=\"display:none;\">\n",
              "        \n",
              "  <svg xmlns=\"http://www.w3.org/2000/svg\" height=\"24px\"viewBox=\"0 0 24 24\"\n",
              "       width=\"24px\">\n",
              "    <path d=\"M0 0h24v24H0V0z\" fill=\"none\"/>\n",
              "    <path d=\"M18.56 5.44l.94 2.06.94-2.06 2.06-.94-2.06-.94-.94-2.06-.94 2.06-2.06.94zm-11 1L8.5 8.5l.94-2.06 2.06-.94-2.06-.94L8.5 2.5l-.94 2.06-2.06.94zm10 10l.94 2.06.94-2.06 2.06-.94-2.06-.94-.94-2.06-.94 2.06-2.06.94z\"/><path d=\"M17.41 7.96l-1.37-1.37c-.4-.4-.92-.59-1.43-.59-.52 0-1.04.2-1.43.59L10.3 9.45l-7.72 7.72c-.78.78-.78 2.05 0 2.83L4 21.41c.39.39.9.59 1.41.59.51 0 1.02-.2 1.41-.59l7.78-7.78 2.81-2.81c.8-.78.8-2.07 0-2.86zM5.41 20L4 18.59l7.72-7.72 1.47 1.35L5.41 20z\"/>\n",
              "  </svg>\n",
              "      </button>\n",
              "      \n",
              "  <style>\n",
              "    .colab-df-container {\n",
              "      display:flex;\n",
              "      flex-wrap:wrap;\n",
              "      gap: 12px;\n",
              "    }\n",
              "\n",
              "    .colab-df-convert {\n",
              "      background-color: #E8F0FE;\n",
              "      border: none;\n",
              "      border-radius: 50%;\n",
              "      cursor: pointer;\n",
              "      display: none;\n",
              "      fill: #1967D2;\n",
              "      height: 32px;\n",
              "      padding: 0 0 0 0;\n",
              "      width: 32px;\n",
              "    }\n",
              "\n",
              "    .colab-df-convert:hover {\n",
              "      background-color: #E2EBFA;\n",
              "      box-shadow: 0px 1px 2px rgba(60, 64, 67, 0.3), 0px 1px 3px 1px rgba(60, 64, 67, 0.15);\n",
              "      fill: #174EA6;\n",
              "    }\n",
              "\n",
              "    [theme=dark] .colab-df-convert {\n",
              "      background-color: #3B4455;\n",
              "      fill: #D2E3FC;\n",
              "    }\n",
              "\n",
              "    [theme=dark] .colab-df-convert:hover {\n",
              "      background-color: #434B5C;\n",
              "      box-shadow: 0px 1px 3px 1px rgba(0, 0, 0, 0.15);\n",
              "      filter: drop-shadow(0px 1px 2px rgba(0, 0, 0, 0.3));\n",
              "      fill: #FFFFFF;\n",
              "    }\n",
              "  </style>\n",
              "\n",
              "      <script>\n",
              "        const buttonEl =\n",
              "          document.querySelector('#df-f164e364-fe6d-45cc-a53b-19dcf85e7840 button.colab-df-convert');\n",
              "        buttonEl.style.display =\n",
              "          google.colab.kernel.accessAllowed ? 'block' : 'none';\n",
              "\n",
              "        async function convertToInteractive(key) {\n",
              "          const element = document.querySelector('#df-f164e364-fe6d-45cc-a53b-19dcf85e7840');\n",
              "          const dataTable =\n",
              "            await google.colab.kernel.invokeFunction('convertToInteractive',\n",
              "                                                     [key], {});\n",
              "          if (!dataTable) return;\n",
              "\n",
              "          const docLinkHtml = 'Like what you see? Visit the ' +\n",
              "            '<a target=\"_blank\" href=https://colab.research.google.com/notebooks/data_table.ipynb>data table notebook</a>'\n",
              "            + ' to learn more about interactive tables.';\n",
              "          element.innerHTML = '';\n",
              "          dataTable['output_type'] = 'display_data';\n",
              "          await google.colab.output.renderOutput(dataTable, element);\n",
              "          const docLink = document.createElement('div');\n",
              "          docLink.innerHTML = docLinkHtml;\n",
              "          element.appendChild(docLink);\n",
              "        }\n",
              "      </script>\n",
              "    </div>\n",
              "  </div>\n",
              "  "
            ],
            "text/plain": [
              "   y_test       pred\n",
              "0    21.7  19.682280\n",
              "1    15.6  17.313007\n",
              "2    20.0  19.598131\n",
              "3    12.8  14.482709\n",
              "4    50.0  34.637516\n",
              "5    20.6  17.370272\n",
              "6    22.6  25.067907\n",
              "7    24.1  27.378750\n",
              "8    24.4  18.913342\n",
              "9    36.1  34.103523"
            ]
          },
          "execution_count": 48,
          "metadata": {},
          "output_type": "execute_result"
        }
      ],
      "source": [
        "df = pd.DataFrame({\n",
        "    'y_test':y_test, 'pred':pred.reshape(51,)\n",
        "})\n",
        "df.head(10)"
      ]
    },
    {
      "cell_type": "markdown",
      "metadata": {
        "id": "5BzsMXGOBySI"
      },
      "source": [
        "- 테스트 프로그램"
      ]
    },
    {
      "cell_type": "code",
      "execution_count": 49,
      "metadata": {
        "colab": {
          "base_uri": "https://localhost:8080/"
        },
        "id": "S6BvEX659y9Y",
        "outputId": "05bd2530-cab1-468d-f808-253442ffaa92"
      },
      "outputs": [
        {
          "data": {
            "text/plain": [
              "(array([1.8836e-01, 0.0000e+00, 6.9100e+00, 0.0000e+00, 4.4800e-01,\n",
              "        5.7860e+00, 3.3300e+01, 5.1004e+00, 3.0000e+00, 2.3300e+02,\n",
              "        1.7900e+01, 3.9690e+02, 1.4150e+01]), 20.0)"
            ]
          },
          "execution_count": 49,
          "metadata": {},
          "output_type": "execute_result"
        }
      ],
      "source": [
        "index = 30\n",
        "X_test[index], y_test[index]"
      ]
    },
    {
      "cell_type": "code",
      "execution_count": 51,
      "metadata": {
        "colab": {
          "base_uri": "https://localhost:8080/"
        },
        "id": "bV2Hrzj2CCCs",
        "outputId": "d1cf38e7-136a-44b5-aa3e-8ec4ba085452"
      },
      "outputs": [
        {
          "data": {
            "text/plain": [
              "array([[17.429409]], dtype=float32)"
            ]
          },
          "execution_count": 51,
          "metadata": {},
          "output_type": "execute_result"
        }
      ],
      "source": [
        "pred_value = model.predict(X_test[index].reshape(1,-1))\n",
        "pred_value"
      ]
    },
    {
      "cell_type": "code",
      "execution_count": 52,
      "metadata": {
        "colab": {
          "base_uri": "https://localhost:8080/"
        },
        "id": "JhqrQMG2CGs1",
        "outputId": "7108cedf-5535-4810-e668-bde5bde498aa"
      },
      "outputs": [
        {
          "name": "stdout",
          "output_type": "stream",
          "text": [
            "실제값: 20.0, 예측값: 17.43\n"
          ]
        }
      ],
      "source": [
        "print(f'실제값: {y_test[index]}, 예측값: {pred_value[0,0]:.2f}')"
      ]
    },
    {
      "cell_type": "code",
      "execution_count": null,
      "metadata": {
        "id": "Zz6m5P8sDnmg"
      },
      "outputs": [],
      "source": []
    }
  ],
  "metadata": {
    "colab": {
      "collapsed_sections": [],
      "name": "41.보스턴주택가격.ipynb",
      "provenance": []
    },
    "kernelspec": {
      "display_name": "Python 3",
      "name": "python3"
    },
    "language_info": {
      "name": "python"
    }
  },
  "nbformat": 4,
  "nbformat_minor": 0
}
