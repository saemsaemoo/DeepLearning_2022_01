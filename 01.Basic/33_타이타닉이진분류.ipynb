{
  "cells": [
    {
      "cell_type": "markdown",
      "metadata": {
        "id": "1YFO_ixL-jws"
      },
      "source": [
        "### 타이타닉 데이터 이진분류 정확도 검사"
      ]
    },
    {
      "cell_type": "markdown",
      "metadata": {
        "id": "4wbzoJ73_pFe"
      },
      "source": [
        "- 패키지 / 데이터 불러오기"
      ]
    },
    {
      "cell_type": "code",
      "execution_count": 1,
      "metadata": {
        "id": "feSlWcO0_cbq"
      },
      "outputs": [],
      "source": [
        "import numpy as np\n",
        "import pandas as pd\n",
        "import seaborn as sns\n",
        "import matplotlib.pyplot as plt"
      ]
    },
    {
      "cell_type": "code",
      "execution_count": 2,
      "metadata": {
        "id": "ZoNf96wR_oUm"
      },
      "outputs": [],
      "source": [
        "import tensorflow as tf\n",
        "seed = 2022\n",
        "np.random.seed(seed)\n",
        "tf.random.set_seed(seed)"
      ]
    },
    {
      "cell_type": "code",
      "execution_count": 3,
      "metadata": {
        "colab": {
          "base_uri": "https://localhost:8080/",
          "height": 144
        },
        "id": "O0oY5Ed2E-KU",
        "outputId": "609335e8-a531-4219-cfe5-82fa67f638a0"
      },
      "outputs": [
        {
          "data": {
            "text/html": [
              "\n",
              "  <div id=\"df-4ea23c20-06e5-4a7c-b764-266d8ae1ad24\">\n",
              "    <div class=\"colab-df-container\">\n",
              "      <div>\n",
              "<style scoped>\n",
              "    .dataframe tbody tr th:only-of-type {\n",
              "        vertical-align: middle;\n",
              "    }\n",
              "\n",
              "    .dataframe tbody tr th {\n",
              "        vertical-align: top;\n",
              "    }\n",
              "\n",
              "    .dataframe thead th {\n",
              "        text-align: right;\n",
              "    }\n",
              "</style>\n",
              "<table border=\"1\" class=\"dataframe\">\n",
              "  <thead>\n",
              "    <tr style=\"text-align: right;\">\n",
              "      <th></th>\n",
              "      <th>survived</th>\n",
              "      <th>pclass</th>\n",
              "      <th>sex</th>\n",
              "      <th>age</th>\n",
              "      <th>sibsp</th>\n",
              "      <th>parch</th>\n",
              "      <th>fare</th>\n",
              "      <th>embarked</th>\n",
              "      <th>class</th>\n",
              "      <th>who</th>\n",
              "      <th>adult_male</th>\n",
              "      <th>deck</th>\n",
              "      <th>embark_town</th>\n",
              "      <th>alive</th>\n",
              "      <th>alone</th>\n",
              "    </tr>\n",
              "  </thead>\n",
              "  <tbody>\n",
              "    <tr>\n",
              "      <th>0</th>\n",
              "      <td>0</td>\n",
              "      <td>3</td>\n",
              "      <td>male</td>\n",
              "      <td>22.0</td>\n",
              "      <td>1</td>\n",
              "      <td>0</td>\n",
              "      <td>7.2500</td>\n",
              "      <td>S</td>\n",
              "      <td>Third</td>\n",
              "      <td>man</td>\n",
              "      <td>True</td>\n",
              "      <td>NaN</td>\n",
              "      <td>Southampton</td>\n",
              "      <td>no</td>\n",
              "      <td>False</td>\n",
              "    </tr>\n",
              "    <tr>\n",
              "      <th>1</th>\n",
              "      <td>1</td>\n",
              "      <td>1</td>\n",
              "      <td>female</td>\n",
              "      <td>38.0</td>\n",
              "      <td>1</td>\n",
              "      <td>0</td>\n",
              "      <td>71.2833</td>\n",
              "      <td>C</td>\n",
              "      <td>First</td>\n",
              "      <td>woman</td>\n",
              "      <td>False</td>\n",
              "      <td>C</td>\n",
              "      <td>Cherbourg</td>\n",
              "      <td>yes</td>\n",
              "      <td>False</td>\n",
              "    </tr>\n",
              "    <tr>\n",
              "      <th>2</th>\n",
              "      <td>1</td>\n",
              "      <td>3</td>\n",
              "      <td>female</td>\n",
              "      <td>26.0</td>\n",
              "      <td>0</td>\n",
              "      <td>0</td>\n",
              "      <td>7.9250</td>\n",
              "      <td>S</td>\n",
              "      <td>Third</td>\n",
              "      <td>woman</td>\n",
              "      <td>False</td>\n",
              "      <td>NaN</td>\n",
              "      <td>Southampton</td>\n",
              "      <td>yes</td>\n",
              "      <td>True</td>\n",
              "    </tr>\n",
              "  </tbody>\n",
              "</table>\n",
              "</div>\n",
              "      <button class=\"colab-df-convert\" onclick=\"convertToInteractive('df-4ea23c20-06e5-4a7c-b764-266d8ae1ad24')\"\n",
              "              title=\"Convert this dataframe to an interactive table.\"\n",
              "              style=\"display:none;\">\n",
              "        \n",
              "  <svg xmlns=\"http://www.w3.org/2000/svg\" height=\"24px\"viewBox=\"0 0 24 24\"\n",
              "       width=\"24px\">\n",
              "    <path d=\"M0 0h24v24H0V0z\" fill=\"none\"/>\n",
              "    <path d=\"M18.56 5.44l.94 2.06.94-2.06 2.06-.94-2.06-.94-.94-2.06-.94 2.06-2.06.94zm-11 1L8.5 8.5l.94-2.06 2.06-.94-2.06-.94L8.5 2.5l-.94 2.06-2.06.94zm10 10l.94 2.06.94-2.06 2.06-.94-2.06-.94-.94-2.06-.94 2.06-2.06.94z\"/><path d=\"M17.41 7.96l-1.37-1.37c-.4-.4-.92-.59-1.43-.59-.52 0-1.04.2-1.43.59L10.3 9.45l-7.72 7.72c-.78.78-.78 2.05 0 2.83L4 21.41c.39.39.9.59 1.41.59.51 0 1.02-.2 1.41-.59l7.78-7.78 2.81-2.81c.8-.78.8-2.07 0-2.86zM5.41 20L4 18.59l7.72-7.72 1.47 1.35L5.41 20z\"/>\n",
              "  </svg>\n",
              "      </button>\n",
              "      \n",
              "  <style>\n",
              "    .colab-df-container {\n",
              "      display:flex;\n",
              "      flex-wrap:wrap;\n",
              "      gap: 12px;\n",
              "    }\n",
              "\n",
              "    .colab-df-convert {\n",
              "      background-color: #E8F0FE;\n",
              "      border: none;\n",
              "      border-radius: 50%;\n",
              "      cursor: pointer;\n",
              "      display: none;\n",
              "      fill: #1967D2;\n",
              "      height: 32px;\n",
              "      padding: 0 0 0 0;\n",
              "      width: 32px;\n",
              "    }\n",
              "\n",
              "    .colab-df-convert:hover {\n",
              "      background-color: #E2EBFA;\n",
              "      box-shadow: 0px 1px 2px rgba(60, 64, 67, 0.3), 0px 1px 3px 1px rgba(60, 64, 67, 0.15);\n",
              "      fill: #174EA6;\n",
              "    }\n",
              "\n",
              "    [theme=dark] .colab-df-convert {\n",
              "      background-color: #3B4455;\n",
              "      fill: #D2E3FC;\n",
              "    }\n",
              "\n",
              "    [theme=dark] .colab-df-convert:hover {\n",
              "      background-color: #434B5C;\n",
              "      box-shadow: 0px 1px 3px 1px rgba(0, 0, 0, 0.15);\n",
              "      filter: drop-shadow(0px 1px 2px rgba(0, 0, 0, 0.3));\n",
              "      fill: #FFFFFF;\n",
              "    }\n",
              "  </style>\n",
              "\n",
              "      <script>\n",
              "        const buttonEl =\n",
              "          document.querySelector('#df-4ea23c20-06e5-4a7c-b764-266d8ae1ad24 button.colab-df-convert');\n",
              "        buttonEl.style.display =\n",
              "          google.colab.kernel.accessAllowed ? 'block' : 'none';\n",
              "\n",
              "        async function convertToInteractive(key) {\n",
              "          const element = document.querySelector('#df-4ea23c20-06e5-4a7c-b764-266d8ae1ad24');\n",
              "          const dataTable =\n",
              "            await google.colab.kernel.invokeFunction('convertToInteractive',\n",
              "                                                     [key], {});\n",
              "          if (!dataTable) return;\n",
              "\n",
              "          const docLinkHtml = 'Like what you see? Visit the ' +\n",
              "            '<a target=\"_blank\" href=https://colab.research.google.com/notebooks/data_table.ipynb>data table notebook</a>'\n",
              "            + ' to learn more about interactive tables.';\n",
              "          element.innerHTML = '';\n",
              "          dataTable['output_type'] = 'display_data';\n",
              "          await google.colab.output.renderOutput(dataTable, element);\n",
              "          const docLink = document.createElement('div');\n",
              "          docLink.innerHTML = docLinkHtml;\n",
              "          element.appendChild(docLink);\n",
              "        }\n",
              "      </script>\n",
              "    </div>\n",
              "  </div>\n",
              "  "
            ],
            "text/plain": [
              "   survived  pclass     sex   age  ...  deck  embark_town  alive  alone\n",
              "0         0       3    male  22.0  ...   NaN  Southampton     no  False\n",
              "1         1       1  female  38.0  ...     C    Cherbourg    yes  False\n",
              "2         1       3  female  26.0  ...   NaN  Southampton    yes   True\n",
              "\n",
              "[3 rows x 15 columns]"
            ]
          },
          "execution_count": 3,
          "metadata": {},
          "output_type": "execute_result"
        }
      ],
      "source": [
        "titanic = sns.load_dataset('titanic')\n",
        "titanic.head(3)"
      ]
    },
    {
      "cell_type": "markdown",
      "metadata": {
        "id": "wlTqdDDjFPpT"
      },
      "source": [
        "- 데이터 전처리"
      ]
    },
    {
      "cell_type": "code",
      "execution_count": 4,
      "metadata": {
        "colab": {
          "base_uri": "https://localhost:8080/",
          "height": 144
        },
        "id": "2KqOQPGH5s6T",
        "outputId": "cfc64ddb-9605-463f-e4e1-5f18111fec1a"
      },
      "outputs": [
        {
          "data": {
            "text/html": [
              "\n",
              "  <div id=\"df-b15538f8-2754-4170-a58b-76dd4eaaf91d\">\n",
              "    <div class=\"colab-df-container\">\n",
              "      <div>\n",
              "<style scoped>\n",
              "    .dataframe tbody tr th:only-of-type {\n",
              "        vertical-align: middle;\n",
              "    }\n",
              "\n",
              "    .dataframe tbody tr th {\n",
              "        vertical-align: top;\n",
              "    }\n",
              "\n",
              "    .dataframe thead th {\n",
              "        text-align: right;\n",
              "    }\n",
              "</style>\n",
              "<table border=\"1\" class=\"dataframe\">\n",
              "  <thead>\n",
              "    <tr style=\"text-align: right;\">\n",
              "      <th></th>\n",
              "      <th>survived</th>\n",
              "      <th>pclass</th>\n",
              "      <th>sex</th>\n",
              "      <th>age</th>\n",
              "      <th>sibsp</th>\n",
              "      <th>parch</th>\n",
              "      <th>fare</th>\n",
              "      <th>embarked</th>\n",
              "    </tr>\n",
              "  </thead>\n",
              "  <tbody>\n",
              "    <tr>\n",
              "      <th>0</th>\n",
              "      <td>0</td>\n",
              "      <td>3</td>\n",
              "      <td>male</td>\n",
              "      <td>22.0</td>\n",
              "      <td>1</td>\n",
              "      <td>0</td>\n",
              "      <td>7.2500</td>\n",
              "      <td>S</td>\n",
              "    </tr>\n",
              "    <tr>\n",
              "      <th>1</th>\n",
              "      <td>1</td>\n",
              "      <td>1</td>\n",
              "      <td>female</td>\n",
              "      <td>38.0</td>\n",
              "      <td>1</td>\n",
              "      <td>0</td>\n",
              "      <td>71.2833</td>\n",
              "      <td>C</td>\n",
              "    </tr>\n",
              "    <tr>\n",
              "      <th>2</th>\n",
              "      <td>1</td>\n",
              "      <td>3</td>\n",
              "      <td>female</td>\n",
              "      <td>26.0</td>\n",
              "      <td>0</td>\n",
              "      <td>0</td>\n",
              "      <td>7.9250</td>\n",
              "      <td>S</td>\n",
              "    </tr>\n",
              "  </tbody>\n",
              "</table>\n",
              "</div>\n",
              "      <button class=\"colab-df-convert\" onclick=\"convertToInteractive('df-b15538f8-2754-4170-a58b-76dd4eaaf91d')\"\n",
              "              title=\"Convert this dataframe to an interactive table.\"\n",
              "              style=\"display:none;\">\n",
              "        \n",
              "  <svg xmlns=\"http://www.w3.org/2000/svg\" height=\"24px\"viewBox=\"0 0 24 24\"\n",
              "       width=\"24px\">\n",
              "    <path d=\"M0 0h24v24H0V0z\" fill=\"none\"/>\n",
              "    <path d=\"M18.56 5.44l.94 2.06.94-2.06 2.06-.94-2.06-.94-.94-2.06-.94 2.06-2.06.94zm-11 1L8.5 8.5l.94-2.06 2.06-.94-2.06-.94L8.5 2.5l-.94 2.06-2.06.94zm10 10l.94 2.06.94-2.06 2.06-.94-2.06-.94-.94-2.06-.94 2.06-2.06.94z\"/><path d=\"M17.41 7.96l-1.37-1.37c-.4-.4-.92-.59-1.43-.59-.52 0-1.04.2-1.43.59L10.3 9.45l-7.72 7.72c-.78.78-.78 2.05 0 2.83L4 21.41c.39.39.9.59 1.41.59.51 0 1.02-.2 1.41-.59l7.78-7.78 2.81-2.81c.8-.78.8-2.07 0-2.86zM5.41 20L4 18.59l7.72-7.72 1.47 1.35L5.41 20z\"/>\n",
              "  </svg>\n",
              "      </button>\n",
              "      \n",
              "  <style>\n",
              "    .colab-df-container {\n",
              "      display:flex;\n",
              "      flex-wrap:wrap;\n",
              "      gap: 12px;\n",
              "    }\n",
              "\n",
              "    .colab-df-convert {\n",
              "      background-color: #E8F0FE;\n",
              "      border: none;\n",
              "      border-radius: 50%;\n",
              "      cursor: pointer;\n",
              "      display: none;\n",
              "      fill: #1967D2;\n",
              "      height: 32px;\n",
              "      padding: 0 0 0 0;\n",
              "      width: 32px;\n",
              "    }\n",
              "\n",
              "    .colab-df-convert:hover {\n",
              "      background-color: #E2EBFA;\n",
              "      box-shadow: 0px 1px 2px rgba(60, 64, 67, 0.3), 0px 1px 3px 1px rgba(60, 64, 67, 0.15);\n",
              "      fill: #174EA6;\n",
              "    }\n",
              "\n",
              "    [theme=dark] .colab-df-convert {\n",
              "      background-color: #3B4455;\n",
              "      fill: #D2E3FC;\n",
              "    }\n",
              "\n",
              "    [theme=dark] .colab-df-convert:hover {\n",
              "      background-color: #434B5C;\n",
              "      box-shadow: 0px 1px 3px 1px rgba(0, 0, 0, 0.15);\n",
              "      filter: drop-shadow(0px 1px 2px rgba(0, 0, 0, 0.3));\n",
              "      fill: #FFFFFF;\n",
              "    }\n",
              "  </style>\n",
              "\n",
              "      <script>\n",
              "        const buttonEl =\n",
              "          document.querySelector('#df-b15538f8-2754-4170-a58b-76dd4eaaf91d button.colab-df-convert');\n",
              "        buttonEl.style.display =\n",
              "          google.colab.kernel.accessAllowed ? 'block' : 'none';\n",
              "\n",
              "        async function convertToInteractive(key) {\n",
              "          const element = document.querySelector('#df-b15538f8-2754-4170-a58b-76dd4eaaf91d');\n",
              "          const dataTable =\n",
              "            await google.colab.kernel.invokeFunction('convertToInteractive',\n",
              "                                                     [key], {});\n",
              "          if (!dataTable) return;\n",
              "\n",
              "          const docLinkHtml = 'Like what you see? Visit the ' +\n",
              "            '<a target=\"_blank\" href=https://colab.research.google.com/notebooks/data_table.ipynb>data table notebook</a>'\n",
              "            + ' to learn more about interactive tables.';\n",
              "          element.innerHTML = '';\n",
              "          dataTable['output_type'] = 'display_data';\n",
              "          await google.colab.output.renderOutput(dataTable, element);\n",
              "          const docLink = document.createElement('div');\n",
              "          docLink.innerHTML = docLinkHtml;\n",
              "          element.appendChild(docLink);\n",
              "        }\n",
              "      </script>\n",
              "    </div>\n",
              "  </div>\n",
              "  "
            ],
            "text/plain": [
              "   survived  pclass     sex   age  sibsp  parch     fare embarked\n",
              "0         0       3    male  22.0      1      0   7.2500        S\n",
              "1         1       1  female  38.0      1      0  71.2833        C\n",
              "2         1       3  female  26.0      0      0   7.9250        S"
            ]
          },
          "execution_count": 4,
          "metadata": {},
          "output_type": "execute_result"
        }
      ],
      "source": [
        "titanic = titanic[['survived', 'pclass', 'sex', 'age', 'sibsp', 'parch', 'fare', 'embarked']]\n",
        "titanic.head(3)"
      ]
    },
    {
      "cell_type": "code",
      "execution_count": 5,
      "metadata": {
        "colab": {
          "base_uri": "https://localhost:8080/"
        },
        "id": "MPi9J2Zj-v46",
        "outputId": "9e8bdf09-8892-4861-8c4d-2a7a9ef32226"
      },
      "outputs": [
        {
          "data": {
            "text/plain": [
              "survived      0\n",
              "pclass        0\n",
              "sex           0\n",
              "age         177\n",
              "sibsp         0\n",
              "parch         0\n",
              "fare          0\n",
              "embarked      2\n",
              "dtype: int64"
            ]
          },
          "execution_count": 5,
          "metadata": {},
          "output_type": "execute_result"
        }
      ],
      "source": [
        "# 결측치 확인\n",
        "titanic.isna().sum()"
      ]
    },
    {
      "cell_type": "code",
      "execution_count": 6,
      "metadata": {
        "colab": {
          "base_uri": "https://localhost:8080/"
        },
        "id": "P87E0xdbF2_W",
        "outputId": "b801fa33-afeb-449a-f34a-eb0f191d07a0"
      },
      "outputs": [
        {
          "data": {
            "text/plain": [
              "0"
            ]
          },
          "execution_count": 6,
          "metadata": {},
          "output_type": "execute_result"
        }
      ],
      "source": [
        "# age 컬럼은 평균으로 대체\n",
        "titanic.age.fillna(titanic.age.mean(), inplace=True)\n",
        "titanic.age.isna().sum()"
      ]
    },
    {
      "cell_type": "code",
      "execution_count": 7,
      "metadata": {
        "colab": {
          "base_uri": "https://localhost:8080/"
        },
        "id": "1vRZI5T8ICMg",
        "outputId": "fa3920bc-2eb4-4e1e-c68c-2d5b92487632"
      },
      "outputs": [
        {
          "data": {
            "text/plain": [
              "S    644\n",
              "C    168\n",
              "Q     77\n",
              "Name: embarked, dtype: int64"
            ]
          },
          "execution_count": 7,
          "metadata": {},
          "output_type": "execute_result"
        }
      ],
      "source": [
        "# embarked 컬럼은 최빈값으로 대체\n",
        "titanic.embarked.value_counts()"
      ]
    },
    {
      "cell_type": "code",
      "execution_count": 8,
      "metadata": {
        "colab": {
          "base_uri": "https://localhost:8080/"
        },
        "id": "Mv3KDBp0HHMz",
        "outputId": "9c71dc04-e3db-4c6b-ca1e-071dade2c4f4"
      },
      "outputs": [
        {
          "data": {
            "text/plain": [
              "survived    0\n",
              "pclass      0\n",
              "sex         0\n",
              "age         0\n",
              "sibsp       0\n",
              "parch       0\n",
              "fare        0\n",
              "embarked    0\n",
              "dtype: int64"
            ]
          },
          "execution_count": 8,
          "metadata": {},
          "output_type": "execute_result"
        }
      ],
      "source": [
        "titanic.embarked.fillna(\"S\", inplace =True)\n",
        "titanic.isna().sum()"
      ]
    },
    {
      "cell_type": "code",
      "execution_count": 9,
      "metadata": {
        "id": "yGL0X8byIhYp"
      },
      "outputs": [],
      "source": [
        "# LabelEncoder로 변환 (sex, embarked 항목)\n",
        "from sklearn.preprocessing import LabelEncoder\n",
        "le = LabelEncoder()"
      ]
    },
    {
      "cell_type": "code",
      "execution_count": 10,
      "metadata": {
        "colab": {
          "base_uri": "https://localhost:8080/",
          "height": 144
        },
        "id": "f7JX8jVLIkYB",
        "outputId": "0ab08969-b075-44f9-e10a-739d03acf9fe"
      },
      "outputs": [
        {
          "data": {
            "text/html": [
              "\n",
              "  <div id=\"df-deed669f-01bc-4546-abdd-5bd263508664\">\n",
              "    <div class=\"colab-df-container\">\n",
              "      <div>\n",
              "<style scoped>\n",
              "    .dataframe tbody tr th:only-of-type {\n",
              "        vertical-align: middle;\n",
              "    }\n",
              "\n",
              "    .dataframe tbody tr th {\n",
              "        vertical-align: top;\n",
              "    }\n",
              "\n",
              "    .dataframe thead th {\n",
              "        text-align: right;\n",
              "    }\n",
              "</style>\n",
              "<table border=\"1\" class=\"dataframe\">\n",
              "  <thead>\n",
              "    <tr style=\"text-align: right;\">\n",
              "      <th></th>\n",
              "      <th>survived</th>\n",
              "      <th>pclass</th>\n",
              "      <th>sex</th>\n",
              "      <th>age</th>\n",
              "      <th>sibsp</th>\n",
              "      <th>parch</th>\n",
              "      <th>fare</th>\n",
              "      <th>embarked</th>\n",
              "    </tr>\n",
              "  </thead>\n",
              "  <tbody>\n",
              "    <tr>\n",
              "      <th>0</th>\n",
              "      <td>0</td>\n",
              "      <td>3</td>\n",
              "      <td>1</td>\n",
              "      <td>22.0</td>\n",
              "      <td>1</td>\n",
              "      <td>0</td>\n",
              "      <td>7.2500</td>\n",
              "      <td>2</td>\n",
              "    </tr>\n",
              "    <tr>\n",
              "      <th>1</th>\n",
              "      <td>1</td>\n",
              "      <td>1</td>\n",
              "      <td>0</td>\n",
              "      <td>38.0</td>\n",
              "      <td>1</td>\n",
              "      <td>0</td>\n",
              "      <td>71.2833</td>\n",
              "      <td>0</td>\n",
              "    </tr>\n",
              "    <tr>\n",
              "      <th>2</th>\n",
              "      <td>1</td>\n",
              "      <td>3</td>\n",
              "      <td>0</td>\n",
              "      <td>26.0</td>\n",
              "      <td>0</td>\n",
              "      <td>0</td>\n",
              "      <td>7.9250</td>\n",
              "      <td>2</td>\n",
              "    </tr>\n",
              "  </tbody>\n",
              "</table>\n",
              "</div>\n",
              "      <button class=\"colab-df-convert\" onclick=\"convertToInteractive('df-deed669f-01bc-4546-abdd-5bd263508664')\"\n",
              "              title=\"Convert this dataframe to an interactive table.\"\n",
              "              style=\"display:none;\">\n",
              "        \n",
              "  <svg xmlns=\"http://www.w3.org/2000/svg\" height=\"24px\"viewBox=\"0 0 24 24\"\n",
              "       width=\"24px\">\n",
              "    <path d=\"M0 0h24v24H0V0z\" fill=\"none\"/>\n",
              "    <path d=\"M18.56 5.44l.94 2.06.94-2.06 2.06-.94-2.06-.94-.94-2.06-.94 2.06-2.06.94zm-11 1L8.5 8.5l.94-2.06 2.06-.94-2.06-.94L8.5 2.5l-.94 2.06-2.06.94zm10 10l.94 2.06.94-2.06 2.06-.94-2.06-.94-.94-2.06-.94 2.06-2.06.94z\"/><path d=\"M17.41 7.96l-1.37-1.37c-.4-.4-.92-.59-1.43-.59-.52 0-1.04.2-1.43.59L10.3 9.45l-7.72 7.72c-.78.78-.78 2.05 0 2.83L4 21.41c.39.39.9.59 1.41.59.51 0 1.02-.2 1.41-.59l7.78-7.78 2.81-2.81c.8-.78.8-2.07 0-2.86zM5.41 20L4 18.59l7.72-7.72 1.47 1.35L5.41 20z\"/>\n",
              "  </svg>\n",
              "      </button>\n",
              "      \n",
              "  <style>\n",
              "    .colab-df-container {\n",
              "      display:flex;\n",
              "      flex-wrap:wrap;\n",
              "      gap: 12px;\n",
              "    }\n",
              "\n",
              "    .colab-df-convert {\n",
              "      background-color: #E8F0FE;\n",
              "      border: none;\n",
              "      border-radius: 50%;\n",
              "      cursor: pointer;\n",
              "      display: none;\n",
              "      fill: #1967D2;\n",
              "      height: 32px;\n",
              "      padding: 0 0 0 0;\n",
              "      width: 32px;\n",
              "    }\n",
              "\n",
              "    .colab-df-convert:hover {\n",
              "      background-color: #E2EBFA;\n",
              "      box-shadow: 0px 1px 2px rgba(60, 64, 67, 0.3), 0px 1px 3px 1px rgba(60, 64, 67, 0.15);\n",
              "      fill: #174EA6;\n",
              "    }\n",
              "\n",
              "    [theme=dark] .colab-df-convert {\n",
              "      background-color: #3B4455;\n",
              "      fill: #D2E3FC;\n",
              "    }\n",
              "\n",
              "    [theme=dark] .colab-df-convert:hover {\n",
              "      background-color: #434B5C;\n",
              "      box-shadow: 0px 1px 3px 1px rgba(0, 0, 0, 0.15);\n",
              "      filter: drop-shadow(0px 1px 2px rgba(0, 0, 0, 0.3));\n",
              "      fill: #FFFFFF;\n",
              "    }\n",
              "  </style>\n",
              "\n",
              "      <script>\n",
              "        const buttonEl =\n",
              "          document.querySelector('#df-deed669f-01bc-4546-abdd-5bd263508664 button.colab-df-convert');\n",
              "        buttonEl.style.display =\n",
              "          google.colab.kernel.accessAllowed ? 'block' : 'none';\n",
              "\n",
              "        async function convertToInteractive(key) {\n",
              "          const element = document.querySelector('#df-deed669f-01bc-4546-abdd-5bd263508664');\n",
              "          const dataTable =\n",
              "            await google.colab.kernel.invokeFunction('convertToInteractive',\n",
              "                                                     [key], {});\n",
              "          if (!dataTable) return;\n",
              "\n",
              "          const docLinkHtml = 'Like what you see? Visit the ' +\n",
              "            '<a target=\"_blank\" href=https://colab.research.google.com/notebooks/data_table.ipynb>data table notebook</a>'\n",
              "            + ' to learn more about interactive tables.';\n",
              "          element.innerHTML = '';\n",
              "          dataTable['output_type'] = 'display_data';\n",
              "          await google.colab.output.renderOutput(dataTable, element);\n",
              "          const docLink = document.createElement('div');\n",
              "          docLink.innerHTML = docLinkHtml;\n",
              "          element.appendChild(docLink);\n",
              "        }\n",
              "      </script>\n",
              "    </div>\n",
              "  </div>\n",
              "  "
            ],
            "text/plain": [
              "   survived  pclass  sex   age  sibsp  parch     fare  embarked\n",
              "0         0       3    1  22.0      1      0   7.2500         2\n",
              "1         1       1    0  38.0      1      0  71.2833         0\n",
              "2         1       3    0  26.0      0      0   7.9250         2"
            ]
          },
          "execution_count": 10,
          "metadata": {},
          "output_type": "execute_result"
        }
      ],
      "source": [
        "titanic.sex = le.fit_transform(titanic.sex)\n",
        "titanic.embarked = le.fit_transform(titanic.embarked)\n",
        "titanic.head(3)"
      ]
    },
    {
      "cell_type": "code",
      "execution_count": 11,
      "metadata": {
        "colab": {
          "base_uri": "https://localhost:8080/"
        },
        "id": "XcC5T9_iIsRF",
        "outputId": "6debe2f7-6878-45ba-f24d-f7c4c025bdbf"
      },
      "outputs": [
        {
          "data": {
            "text/plain": [
              "((891, 7), (891,))"
            ]
          },
          "execution_count": 11,
          "metadata": {},
          "output_type": "execute_result"
        }
      ],
      "source": [
        "# X와 y를 넘파이 배열로\n",
        "X = titanic.iloc[:,1:].values\n",
        "y = titanic.iloc[:,0].values # survived 값\n",
        "X.shape, y.shape"
      ]
    },
    {
      "cell_type": "code",
      "execution_count": 33,
      "metadata": {
        "colab": {
          "base_uri": "https://localhost:8080/"
        },
        "id": "yRWsKAcF-7DT",
        "outputId": "b03587e6-9752-4920-968a-59c8fc286b40"
      },
      "outputs": [
        {
          "data": {
            "text/plain": [
              "(891, 7)"
            ]
          },
          "execution_count": 33,
          "metadata": {},
          "output_type": "execute_result"
        }
      ],
      "source": [
        "# X 스케일링\n",
        "from sklearn.preprocessing import StandardScaler\n",
        "X_scaled = StandardScaler().fit_transform(X)\n",
        "X_scaled.shape"
      ]
    },
    {
      "cell_type": "markdown",
      "metadata": {
        "id": "6jHuX5Gm_WOc"
      },
      "source": [
        "- 학습 / 테스트 데이터셋 분리"
      ]
    },
    {
      "cell_type": "code",
      "execution_count": 34,
      "metadata": {
        "colab": {
          "base_uri": "https://localhost:8080/"
        },
        "id": "yWzK_7XQIzcd",
        "outputId": "153f9efd-f56e-4ac0-8840-f8dc1a6cf82a"
      },
      "outputs": [
        {
          "data": {
            "text/plain": [
              "((712, 7), (179, 7), (712,), (179,))"
            ]
          },
          "execution_count": 34,
          "metadata": {},
          "output_type": "execute_result"
        }
      ],
      "source": [
        "from sklearn.model_selection import train_test_split\n",
        "X_train, X_test, y_train, y_test = train_test_split(\n",
        "    X_scaled, y, stratify=y, test_size=0.2, random_state=2022\n",
        ")\n",
        "X_train.shape, X_test.shape, y_train.shape, y_test.shape"
      ]
    },
    {
      "cell_type": "markdown",
      "metadata": {
        "id": "5fUnms-dI4v-"
      },
      "source": [
        "- 모델 정의"
      ]
    },
    {
      "cell_type": "code",
      "execution_count": 15,
      "metadata": {
        "id": "NXiC-rFi7Lfs"
      },
      "outputs": [],
      "source": [
        "from tensorflow.keras.models import Sequential\n",
        "from tensorflow.keras.layers import Dense"
      ]
    },
    {
      "cell_type": "code",
      "execution_count": 35,
      "metadata": {
        "colab": {
          "base_uri": "https://localhost:8080/"
        },
        "id": "bx67gRky7nQl",
        "outputId": "c6fdd91c-325e-4317-f29c-2a0f4c39bbab"
      },
      "outputs": [
        {
          "name": "stdout",
          "output_type": "stream",
          "text": [
            "Model: \"sequential_1\"\n",
            "_________________________________________________________________\n",
            " Layer (type)                Output Shape              Param #   \n",
            "=================================================================\n",
            " dense_4 (Dense)             (None, 32)                256       \n",
            "                                                                 \n",
            " dense_5 (Dense)             (None, 16)                528       \n",
            "                                                                 \n",
            " dense_6 (Dense)             (None, 4)                 68        \n",
            "                                                                 \n",
            " dense_7 (Dense)             (None, 1)                 5         \n",
            "                                                                 \n",
            "=================================================================\n",
            "Total params: 857\n",
            "Trainable params: 857\n",
            "Non-trainable params: 0\n",
            "_________________________________________________________________\n"
          ]
        }
      ],
      "source": [
        "model = Sequential([\n",
        "    Dense(32, input_shape=(7,), activation='relu'),\n",
        "    Dense(16, activation='relu'),\n",
        "    Dense(4, activation='relu'),\n",
        "    Dense(1, activation='sigmoid')\n",
        "])\n",
        "model.summary()"
      ]
    },
    {
      "cell_type": "code",
      "execution_count": 36,
      "metadata": {
        "id": "WD66bBY67pTY"
      },
      "outputs": [],
      "source": [
        "model.compile(optimizer='adam', loss = 'binary_crossentropy', metrics = ['accuracy'])"
      ]
    },
    {
      "cell_type": "markdown",
      "metadata": {
        "id": "ZYNqscLb9cOq"
      },
      "source": [
        "- 모델 저장 조건 등 설정"
      ]
    },
    {
      "cell_type": "code",
      "execution_count": 37,
      "metadata": {
        "id": "gBYIlMK_9XiM"
      },
      "outputs": [],
      "source": [
        "import os # 파일 생성하기\n",
        "if not os.path.exists('model'):\n",
        "    os.mkdir('model')"
      ]
    },
    {
      "cell_type": "code",
      "execution_count": 38,
      "metadata": {
        "id": "HEclvt5o9f4M"
      },
      "outputs": [],
      "source": [
        "model_path = 'model/titanic.h5'"
      ]
    },
    {
      "cell_type": "code",
      "execution_count": 39,
      "metadata": {
        "id": "TSBwMh8LARmj"
      },
      "outputs": [],
      "source": [
        "from tensorflow.keras.callbacks import ModelCheckpoint, EarlyStopping\n",
        "checkpoint = ModelCheckpoint(\n",
        "    model_path, monitor= 'val_loss', verbose = 1, save_best_only = True)\n",
        "early_stop = EarlyStopping(patience=20)"
      ]
    },
    {
      "cell_type": "markdown",
      "metadata": {
        "id": "peaNd6TfA0W-"
      },
      "source": [
        "- 모델 학습"
      ]
    },
    {
      "cell_type": "code",
      "execution_count": 40,
      "metadata": {
        "colab": {
          "base_uri": "https://localhost:8080/"
        },
        "id": "1VgHQ-Ti7qpj",
        "outputId": "b179964d-5570-491f-bd02-165f3d7d532b"
      },
      "outputs": [
        {
          "name": "stdout",
          "output_type": "stream",
          "text": [
            "\n",
            "Epoch 00001: val_loss improved from inf to 0.73057, saving model to model/titanic.h5\n",
            "\n",
            "Epoch 00002: val_loss improved from 0.73057 to 0.71591, saving model to model/titanic.h5\n",
            "\n",
            "Epoch 00003: val_loss improved from 0.71591 to 0.70267, saving model to model/titanic.h5\n",
            "\n",
            "Epoch 00004: val_loss improved from 0.70267 to 0.69192, saving model to model/titanic.h5\n",
            "\n",
            "Epoch 00005: val_loss improved from 0.69192 to 0.68460, saving model to model/titanic.h5\n",
            "\n",
            "Epoch 00006: val_loss improved from 0.68460 to 0.67988, saving model to model/titanic.h5\n",
            "\n",
            "Epoch 00007: val_loss improved from 0.67988 to 0.67638, saving model to model/titanic.h5\n",
            "\n",
            "Epoch 00008: val_loss improved from 0.67638 to 0.67332, saving model to model/titanic.h5\n",
            "\n",
            "Epoch 00009: val_loss improved from 0.67332 to 0.67011, saving model to model/titanic.h5\n",
            "\n",
            "Epoch 00010: val_loss improved from 0.67011 to 0.66700, saving model to model/titanic.h5\n",
            "\n",
            "Epoch 00011: val_loss improved from 0.66700 to 0.66399, saving model to model/titanic.h5\n",
            "\n",
            "Epoch 00012: val_loss improved from 0.66399 to 0.66124, saving model to model/titanic.h5\n",
            "\n",
            "Epoch 00013: val_loss improved from 0.66124 to 0.65897, saving model to model/titanic.h5\n",
            "\n",
            "Epoch 00014: val_loss improved from 0.65897 to 0.65686, saving model to model/titanic.h5\n",
            "\n",
            "Epoch 00015: val_loss improved from 0.65686 to 0.65468, saving model to model/titanic.h5\n",
            "\n",
            "Epoch 00016: val_loss improved from 0.65468 to 0.65239, saving model to model/titanic.h5\n",
            "\n",
            "Epoch 00017: val_loss improved from 0.65239 to 0.65037, saving model to model/titanic.h5\n",
            "\n",
            "Epoch 00018: val_loss improved from 0.65037 to 0.64825, saving model to model/titanic.h5\n",
            "\n",
            "Epoch 00019: val_loss improved from 0.64825 to 0.64623, saving model to model/titanic.h5\n",
            "\n",
            "Epoch 00020: val_loss improved from 0.64623 to 0.64428, saving model to model/titanic.h5\n",
            "\n",
            "Epoch 00021: val_loss improved from 0.64428 to 0.64215, saving model to model/titanic.h5\n",
            "\n",
            "Epoch 00022: val_loss improved from 0.64215 to 0.64051, saving model to model/titanic.h5\n",
            "\n",
            "Epoch 00023: val_loss improved from 0.64051 to 0.63874, saving model to model/titanic.h5\n",
            "\n",
            "Epoch 00024: val_loss improved from 0.63874 to 0.63691, saving model to model/titanic.h5\n",
            "\n",
            "Epoch 00025: val_loss improved from 0.63691 to 0.63474, saving model to model/titanic.h5\n",
            "\n",
            "Epoch 00026: val_loss improved from 0.63474 to 0.63267, saving model to model/titanic.h5\n",
            "\n",
            "Epoch 00027: val_loss improved from 0.63267 to 0.63058, saving model to model/titanic.h5\n",
            "\n",
            "Epoch 00028: val_loss improved from 0.63058 to 0.62844, saving model to model/titanic.h5\n",
            "\n",
            "Epoch 00029: val_loss improved from 0.62844 to 0.62644, saving model to model/titanic.h5\n",
            "\n",
            "Epoch 00030: val_loss improved from 0.62644 to 0.62450, saving model to model/titanic.h5\n",
            "\n",
            "Epoch 00031: val_loss improved from 0.62450 to 0.62244, saving model to model/titanic.h5\n",
            "\n",
            "Epoch 00032: val_loss improved from 0.62244 to 0.62049, saving model to model/titanic.h5\n",
            "\n",
            "Epoch 00033: val_loss improved from 0.62049 to 0.61855, saving model to model/titanic.h5\n",
            "\n",
            "Epoch 00034: val_loss improved from 0.61855 to 0.61639, saving model to model/titanic.h5\n",
            "\n",
            "Epoch 00035: val_loss improved from 0.61639 to 0.61446, saving model to model/titanic.h5\n",
            "\n",
            "Epoch 00036: val_loss improved from 0.61446 to 0.61240, saving model to model/titanic.h5\n",
            "\n",
            "Epoch 00037: val_loss improved from 0.61240 to 0.61033, saving model to model/titanic.h5\n",
            "\n",
            "Epoch 00038: val_loss improved from 0.61033 to 0.60837, saving model to model/titanic.h5\n",
            "\n",
            "Epoch 00039: val_loss improved from 0.60837 to 0.60649, saving model to model/titanic.h5\n",
            "\n",
            "Epoch 00040: val_loss improved from 0.60649 to 0.60441, saving model to model/titanic.h5\n",
            "\n",
            "Epoch 00041: val_loss improved from 0.60441 to 0.60269, saving model to model/titanic.h5\n",
            "\n",
            "Epoch 00042: val_loss improved from 0.60269 to 0.60070, saving model to model/titanic.h5\n",
            "\n",
            "Epoch 00043: val_loss improved from 0.60070 to 0.59878, saving model to model/titanic.h5\n",
            "\n",
            "Epoch 00044: val_loss improved from 0.59878 to 0.59708, saving model to model/titanic.h5\n",
            "\n",
            "Epoch 00045: val_loss improved from 0.59708 to 0.59509, saving model to model/titanic.h5\n",
            "\n",
            "Epoch 00046: val_loss improved from 0.59509 to 0.59316, saving model to model/titanic.h5\n",
            "\n",
            "Epoch 00047: val_loss improved from 0.59316 to 0.59116, saving model to model/titanic.h5\n",
            "\n",
            "Epoch 00048: val_loss improved from 0.59116 to 0.58992, saving model to model/titanic.h5\n",
            "\n",
            "Epoch 00049: val_loss improved from 0.58992 to 0.58903, saving model to model/titanic.h5\n",
            "\n",
            "Epoch 00050: val_loss improved from 0.58903 to 0.58757, saving model to model/titanic.h5\n",
            "\n",
            "Epoch 00051: val_loss improved from 0.58757 to 0.58681, saving model to model/titanic.h5\n",
            "\n",
            "Epoch 00052: val_loss improved from 0.58681 to 0.58570, saving model to model/titanic.h5\n",
            "\n",
            "Epoch 00053: val_loss improved from 0.58570 to 0.58479, saving model to model/titanic.h5\n",
            "\n",
            "Epoch 00054: val_loss improved from 0.58479 to 0.58408, saving model to model/titanic.h5\n",
            "\n",
            "Epoch 00055: val_loss improved from 0.58408 to 0.58321, saving model to model/titanic.h5\n",
            "\n",
            "Epoch 00056: val_loss improved from 0.58321 to 0.58177, saving model to model/titanic.h5\n",
            "\n",
            "Epoch 00057: val_loss improved from 0.58177 to 0.58046, saving model to model/titanic.h5\n",
            "\n",
            "Epoch 00058: val_loss improved from 0.58046 to 0.57984, saving model to model/titanic.h5\n",
            "\n",
            "Epoch 00059: val_loss improved from 0.57984 to 0.57923, saving model to model/titanic.h5\n",
            "\n",
            "Epoch 00060: val_loss improved from 0.57923 to 0.57895, saving model to model/titanic.h5\n",
            "\n",
            "Epoch 00061: val_loss improved from 0.57895 to 0.57826, saving model to model/titanic.h5\n",
            "\n",
            "Epoch 00062: val_loss improved from 0.57826 to 0.57790, saving model to model/titanic.h5\n",
            "\n",
            "Epoch 00063: val_loss improved from 0.57790 to 0.57743, saving model to model/titanic.h5\n",
            "\n",
            "Epoch 00064: val_loss improved from 0.57743 to 0.57619, saving model to model/titanic.h5\n",
            "\n",
            "Epoch 00065: val_loss improved from 0.57619 to 0.57580, saving model to model/titanic.h5\n",
            "\n",
            "Epoch 00066: val_loss improved from 0.57580 to 0.57477, saving model to model/titanic.h5\n",
            "\n",
            "Epoch 00067: val_loss improved from 0.57477 to 0.57474, saving model to model/titanic.h5\n",
            "\n",
            "Epoch 00068: val_loss improved from 0.57474 to 0.57378, saving model to model/titanic.h5\n",
            "\n",
            "Epoch 00069: val_loss improved from 0.57378 to 0.57267, saving model to model/titanic.h5\n",
            "\n",
            "Epoch 00070: val_loss improved from 0.57267 to 0.57153, saving model to model/titanic.h5\n",
            "\n",
            "Epoch 00071: val_loss improved from 0.57153 to 0.57064, saving model to model/titanic.h5\n",
            "\n",
            "Epoch 00072: val_loss improved from 0.57064 to 0.57018, saving model to model/titanic.h5\n",
            "\n",
            "Epoch 00073: val_loss did not improve from 0.57018\n",
            "\n",
            "Epoch 00074: val_loss did not improve from 0.57018\n",
            "\n",
            "Epoch 00075: val_loss improved from 0.57018 to 0.56995, saving model to model/titanic.h5\n",
            "\n",
            "Epoch 00076: val_loss improved from 0.56995 to 0.56929, saving model to model/titanic.h5\n",
            "\n",
            "Epoch 00077: val_loss improved from 0.56929 to 0.56828, saving model to model/titanic.h5\n",
            "\n",
            "Epoch 00078: val_loss improved from 0.56828 to 0.56769, saving model to model/titanic.h5\n",
            "\n",
            "Epoch 00079: val_loss did not improve from 0.56769\n",
            "\n",
            "Epoch 00080: val_loss improved from 0.56769 to 0.56727, saving model to model/titanic.h5\n",
            "\n",
            "Epoch 00081: val_loss improved from 0.56727 to 0.56656, saving model to model/titanic.h5\n",
            "\n",
            "Epoch 00082: val_loss improved from 0.56656 to 0.56560, saving model to model/titanic.h5\n",
            "\n",
            "Epoch 00083: val_loss did not improve from 0.56560\n",
            "\n",
            "Epoch 00084: val_loss improved from 0.56560 to 0.56511, saving model to model/titanic.h5\n",
            "\n",
            "Epoch 00085: val_loss improved from 0.56511 to 0.56475, saving model to model/titanic.h5\n",
            "\n",
            "Epoch 00086: val_loss improved from 0.56475 to 0.56368, saving model to model/titanic.h5\n",
            "\n",
            "Epoch 00087: val_loss improved from 0.56368 to 0.56249, saving model to model/titanic.h5\n",
            "\n",
            "Epoch 00088: val_loss improved from 0.56249 to 0.56211, saving model to model/titanic.h5\n",
            "\n",
            "Epoch 00089: val_loss improved from 0.56211 to 0.56190, saving model to model/titanic.h5\n",
            "\n",
            "Epoch 00090: val_loss did not improve from 0.56190\n",
            "\n",
            "Epoch 00091: val_loss did not improve from 0.56190\n",
            "\n",
            "Epoch 00092: val_loss improved from 0.56190 to 0.56047, saving model to model/titanic.h5\n",
            "\n",
            "Epoch 00093: val_loss improved from 0.56047 to 0.55958, saving model to model/titanic.h5\n",
            "\n",
            "Epoch 00094: val_loss did not improve from 0.55958\n",
            "\n",
            "Epoch 00095: val_loss did not improve from 0.55958\n",
            "\n",
            "Epoch 00096: val_loss improved from 0.55958 to 0.55942, saving model to model/titanic.h5\n",
            "\n",
            "Epoch 00097: val_loss improved from 0.55942 to 0.55924, saving model to model/titanic.h5\n",
            "\n",
            "Epoch 00098: val_loss improved from 0.55924 to 0.55807, saving model to model/titanic.h5\n",
            "\n",
            "Epoch 00099: val_loss improved from 0.55807 to 0.55726, saving model to model/titanic.h5\n",
            "\n",
            "Epoch 00100: val_loss did not improve from 0.55726\n"
          ]
        }
      ],
      "source": [
        "hist = model.fit(X_train, y_train, validation_split=0.2, epochs=100, batch_size=200,\n",
        "                verbose =0, callbacks=[checkpoint, early_stop])"
      ]
    },
    {
      "cell_type": "markdown",
      "metadata": {
        "id": "COChRO6cA7nA"
      },
      "source": [
        "- 모델 평가"
      ]
    },
    {
      "cell_type": "code",
      "execution_count": 41,
      "metadata": {
        "colab": {
          "base_uri": "https://localhost:8080/"
        },
        "id": "UD1cxlZpA7Tl",
        "outputId": "b74ee1e2-351c-4069-e544-7c7e18273731"
      },
      "outputs": [
        {
          "name": "stdout",
          "output_type": "stream",
          "text": [
            "6/6 [==============================] - 0s 2ms/step - loss: 0.5186 - accuracy: 0.8268\n"
          ]
        },
        {
          "data": {
            "text/plain": [
              "[0.5186324119567871, 0.826815664768219]"
            ]
          },
          "execution_count": 41,
          "metadata": {},
          "output_type": "execute_result"
        }
      ],
      "source": [
        "from tensorflow.keras.models import load_model\n",
        "best_model = load_model(model_path)\n",
        "best_model.evaluate(X_test, y_test)"
      ]
    },
    {
      "cell_type": "markdown",
      "metadata": {
        "id": "m7rJpLxyC4-H"
      },
      "source": [
        "- 조건 변경해서 한번 더"
      ]
    },
    {
      "cell_type": "code",
      "execution_count": 44,
      "metadata": {
        "id": "na702ytTD_Qt"
      },
      "outputs": [],
      "source": [
        "del model"
      ]
    },
    {
      "cell_type": "code",
      "execution_count": 45,
      "metadata": {
        "colab": {
          "base_uri": "https://localhost:8080/"
        },
        "id": "KqF5qLLgDJLA",
        "outputId": "cdb1dbfd-5a07-40d9-b429-e8eb996f71a4"
      },
      "outputs": [
        {
          "name": "stdout",
          "output_type": "stream",
          "text": [
            "Model: \"sequential_3\"\n",
            "_________________________________________________________________\n",
            " Layer (type)                Output Shape              Param #   \n",
            "=================================================================\n",
            " dense_14 (Dense)            (None, 400)               3200      \n",
            "                                                                 \n",
            " dense_15 (Dense)            (None, 200)               80200     \n",
            "                                                                 \n",
            " dense_16 (Dense)            (None, 100)               20100     \n",
            "                                                                 \n",
            " dense_17 (Dense)            (None, 50)                5050      \n",
            "                                                                 \n",
            " dense_18 (Dense)            (None, 25)                1275      \n",
            "                                                                 \n",
            " dense_19 (Dense)            (None, 1)                 26        \n",
            "                                                                 \n",
            "=================================================================\n",
            "Total params: 109,851\n",
            "Trainable params: 109,851\n",
            "Non-trainable params: 0\n",
            "_________________________________________________________________\n"
          ]
        }
      ],
      "source": [
        "model = Sequential([\n",
        "    Dense(400, input_shape=(7,), activation='relu'),\n",
        "    Dense(200, activation='relu'),\n",
        "    Dense(100, activation='relu'),\n",
        "    Dense(50, activation='relu'),\n",
        "    Dense(25, activation='relu'),\n",
        "    Dense(1, activation='sigmoid')\n",
        "])\n",
        "model.summary()"
      ]
    },
    {
      "cell_type": "code",
      "execution_count": 47,
      "metadata": {
        "id": "1J_AbpAHDJIq"
      },
      "outputs": [],
      "source": [
        "model.compile(optimizer='adam', loss = 'binary_crossentropy', metrics = ['accuracy'])"
      ]
    },
    {
      "cell_type": "code",
      "execution_count": 48,
      "metadata": {
        "colab": {
          "base_uri": "https://localhost:8080/"
        },
        "id": "DI80DaMzDpX2",
        "outputId": "6c787608-bb9a-4968-8db8-61d2f25f608b"
      },
      "outputs": [
        {
          "name": "stdout",
          "output_type": "stream",
          "text": [
            "\n",
            "Epoch 00001: val_loss did not improve from 0.55726\n",
            "\n",
            "Epoch 00002: val_loss did not improve from 0.55726\n",
            "\n",
            "Epoch 00003: val_loss improved from 0.55726 to 0.52332, saving model to model/titanic.h5\n",
            "\n",
            "Epoch 00004: val_loss improved from 0.52332 to 0.49265, saving model to model/titanic.h5\n",
            "\n",
            "Epoch 00005: val_loss did not improve from 0.49265\n",
            "\n",
            "Epoch 00006: val_loss did not improve from 0.49265\n",
            "\n",
            "Epoch 00007: val_loss did not improve from 0.49265\n",
            "\n",
            "Epoch 00008: val_loss improved from 0.49265 to 0.47871, saving model to model/titanic.h5\n",
            "\n",
            "Epoch 00009: val_loss improved from 0.47871 to 0.46814, saving model to model/titanic.h5\n",
            "\n",
            "Epoch 00010: val_loss improved from 0.46814 to 0.46341, saving model to model/titanic.h5\n",
            "\n",
            "Epoch 00011: val_loss improved from 0.46341 to 0.46023, saving model to model/titanic.h5\n",
            "\n",
            "Epoch 00012: val_loss did not improve from 0.46023\n",
            "\n",
            "Epoch 00013: val_loss did not improve from 0.46023\n",
            "\n",
            "Epoch 00014: val_loss did not improve from 0.46023\n",
            "\n",
            "Epoch 00015: val_loss did not improve from 0.46023\n",
            "\n",
            "Epoch 00016: val_loss did not improve from 0.46023\n",
            "\n",
            "Epoch 00017: val_loss did not improve from 0.46023\n",
            "\n",
            "Epoch 00018: val_loss did not improve from 0.46023\n",
            "\n",
            "Epoch 00019: val_loss did not improve from 0.46023\n",
            "\n",
            "Epoch 00020: val_loss did not improve from 0.46023\n",
            "\n",
            "Epoch 00021: val_loss did not improve from 0.46023\n",
            "\n",
            "Epoch 00022: val_loss did not improve from 0.46023\n",
            "\n",
            "Epoch 00023: val_loss did not improve from 0.46023\n",
            "\n",
            "Epoch 00024: val_loss did not improve from 0.46023\n",
            "\n",
            "Epoch 00025: val_loss did not improve from 0.46023\n",
            "\n",
            "Epoch 00026: val_loss did not improve from 0.46023\n",
            "\n",
            "Epoch 00027: val_loss did not improve from 0.46023\n",
            "\n",
            "Epoch 00028: val_loss did not improve from 0.46023\n",
            "\n",
            "Epoch 00029: val_loss did not improve from 0.46023\n",
            "\n",
            "Epoch 00030: val_loss did not improve from 0.46023\n",
            "\n",
            "Epoch 00031: val_loss did not improve from 0.46023\n"
          ]
        }
      ],
      "source": [
        "hist = model.fit(X_train, y_train, validation_split=0.2, epochs=300, batch_size=200,\n",
        "                verbose =0, callbacks=[checkpoint, early_stop])"
      ]
    },
    {
      "cell_type": "code",
      "execution_count": 49,
      "metadata": {
        "colab": {
          "base_uri": "https://localhost:8080/"
        },
        "id": "FnfoKp7mDpV2",
        "outputId": "494ab901-f38a-4840-ed3b-83455a999761"
      },
      "outputs": [
        {
          "name": "stdout",
          "output_type": "stream",
          "text": [
            "6/6 [==============================] - 0s 3ms/step - loss: 0.4053 - accuracy: 0.8380\n"
          ]
        },
        {
          "data": {
            "text/plain": [
              "[0.4052715599536896, 0.8379888534545898]"
            ]
          },
          "execution_count": 49,
          "metadata": {},
          "output_type": "execute_result"
        }
      ],
      "source": [
        "best_model = load_model(model_path)\n",
        "best_model.evaluate(X_test, y_test)"
      ]
    },
    {
      "cell_type": "markdown",
      "metadata": {
        "id": "1jVbyXdM7tTN"
      },
      "source": [
        "- 학습과정 시각화"
      ]
    },
    {
      "cell_type": "code",
      "execution_count": 51,
      "metadata": {
        "id": "8i5vY7x37vMB"
      },
      "outputs": [],
      "source": [
        "y_acc = hist.history['accuracy']\n",
        "y_vloss = hist.history['val_loss']\n",
        "xs = np.arange(1, len(y_acc)+1)"
      ]
    },
    {
      "cell_type": "code",
      "execution_count": 52,
      "metadata": {
        "colab": {
          "base_uri": "https://localhost:8080/",
          "height": 497
        },
        "id": "0X4Utcjw7w3Z",
        "outputId": "0914200a-15ed-48ac-8a1a-ab7853bd5af5"
      },
      "outputs": [
        {
          "data": {
            "image/png": "[encoded data removed]",
            "text/plain": [
              "<Figure size 1080x576 with 1 Axes>"
            ]
          },
          "metadata": {
            "needs_background": "light"
          },
          "output_type": "display_data"
        }
      ],
      "source": [
        "import matplotlib.pyplot as plt\n",
        "plt.figure(figsize=(15,8))\n",
        "plt.plot(xs, y_acc, label='train accuracy')\n",
        "plt.plot(xs, y_vloss, label='validation loss')\n",
        "plt.legend()\n",
        "plt.xlabel('Epoch')\n",
        "plt.grid()\n",
        "plt.show()"
      ]
    }
  ],
  "metadata": {
    "colab": {
      "collapsed_sections": [],
      "name": "33.타이타닉이진분류.ipynb",
      "provenance": []
    },
    "kernelspec": {
      "display_name": "Python 3",
      "name": "python3"
    },
    "language_info": {
      "name": "python",
      "version": "3.8.11"
    }
  },
  "nbformat": 4,
  "nbformat_minor": 0
}
