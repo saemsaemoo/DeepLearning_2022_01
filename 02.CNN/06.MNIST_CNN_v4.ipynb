{
  "cells": [
    {
      "cell_type": "markdown",
      "metadata": {
        "id": "a8CQsDtWQVhD"
      },
      "source": [
        "### MNIST 손글씨 - CNN v4\n",
        "- Conv2D layers ==> 2 Conv2D with padding layers\n",
        "- MaxPooling2D layer\n",
        "- Dropout(0.25) layer\n",
        "- Fully Connected Network layer\n",
        "- Dropout(0.5) layer\n",
        "- Output layer"
      ]
    },
    {
      "cell_type": "code",
      "execution_count": null,
      "metadata": {
        "id": "WlHkqU16QTGv"
      },
      "outputs": [],
      "source": [
        "import numpy as np\n",
        "import tensorflow as tf\n",
        "seed = 2022\n",
        "np.random.seed(seed)\n",
        "tf.random.set_seed(seed)"
      ]
    },
    {
      "cell_type": "markdown",
      "metadata": {
        "id": "8lxkflFmQa3p"
      },
      "source": [
        "- 데이터 전처리"
      ]
    },
    {
      "cell_type": "code",
      "execution_count": null,
      "metadata": {
        "colab": {
          "base_uri": "https://localhost:8080/"
        },
        "id": "vB0rq8CbQaEB",
        "outputId": "3f8b4cff-5a67-49ab-82ca-55b5166d6752"
      },
      "outputs": [
        {
          "name": "stdout",
          "output_type": "stream",
          "text": [
            "Downloading data from https://storage.googleapis.com/tensorflow/tf-keras-datasets/mnist.npz\n",
            "11493376/11490434 [==============================] - 0s 0us/step\n",
            "11501568/11490434 [==============================] - 0s 0us/step\n"
          ]
        }
      ],
      "source": [
        "from tensorflow.keras.datasets import mnist\n",
        "(X_train, y_train), (X_test, y_test) = mnist.load_data()"
      ]
    },
    {
      "cell_type": "code",
      "execution_count": null,
      "metadata": {
        "id": "c-k47GOEQaBr"
      },
      "outputs": [],
      "source": [
        "# X data: 0~1 사이의 값, 3차원 --> 4차원\n",
        "X_train = X_train.reshape(-1,28,28,1) / 255.\n",
        "X_test = X_test.reshape(-1,28,28,1) / 255."
      ]
    },
    {
      "cell_type": "code",
      "execution_count": null,
      "metadata": {
        "id": "UxLIOVb5QZ_K"
      },
      "outputs": [],
      "source": [
        "# One-hot encoding\n",
        "from tensorflow.keras.utils import to_categorical\n",
        "Y_train = to_categorical(y_train)\n",
        "Y_test = to_categorical(y_test)"
      ]
    },
    {
      "cell_type": "markdown",
      "metadata": {
        "id": "z17FULysQfNg"
      },
      "source": [
        "- 모델 정의 / 설정 / 학습 / 평가"
      ]
    },
    {
      "cell_type": "code",
      "execution_count": null,
      "metadata": {
        "id": "7KRYHVzRQZ8W"
      },
      "outputs": [],
      "source": [
        "from tensorflow.keras.models import Sequential, load_model\n",
        "from tensorflow.keras.layers import Dense, Conv2D, Flatten, MaxPooling2D\n",
        "from tensorflow.keras.layers import Dropout\n",
        "from tensorflow.keras.callbacks import ModelCheckpoint, EarlyStopping"
      ]
    },
    {
      "cell_type": "code",
      "execution_count": null,
      "metadata": {
        "colab": {
          "base_uri": "https://localhost:8080/"
        },
        "id": "CT8zMJtiQZ6A",
        "outputId": "9445ca4b-2219-475d-b8da-5e0962933713"
      },
      "outputs": [
        {
          "name": "stdout",
          "output_type": "stream",
          "text": [
            "Model: \"sequential\"\n",
            "_________________________________________________________________\n",
            " Layer (type)                Output Shape              Param #   \n",
            "=================================================================\n",
            " conv2d (Conv2D)             (None, 28, 28, 32)        320       \n",
            "                                                                 \n",
            " conv2d_1 (Conv2D)           (None, 28, 28, 64)        18496     \n",
            "                                                                 \n",
            " max_pooling2d (MaxPooling2D  (None, 14, 14, 64)       0         \n",
            " )                                                               \n",
            "                                                                 \n",
            " dropout (Dropout)           (None, 14, 14, 64)        0         \n",
            "                                                                 \n",
            " flatten (Flatten)           (None, 12544)             0         \n",
            "                                                                 \n",
            " dense (Dense)               (None, 512)               6423040   \n",
            "                                                                 \n",
            " dropout_1 (Dropout)         (None, 512)               0         \n",
            "                                                                 \n",
            " dense_1 (Dense)             (None, 10)                5130      \n",
            "                                                                 \n",
            "=================================================================\n",
            "Total params: 6,446,986\n",
            "Trainable params: 6,446,986\n",
            "Non-trainable params: 0\n",
            "_________________________________________________________________\n"
          ]
        }
      ],
      "source": [
        "model = Sequential([ \n",
        "    Conv2D(32, kernel_size=(3,3), padding='same', input_shape=(28,28,1), activation='relu'),\n",
        "    Conv2D(64, (3,3), padding='same', activation='relu'),\n",
        "    MaxPooling2D(),                         # MaxPooling2D(pool_size=(2,2))\n",
        "    Dropout(0.25),\n",
        "    Flatten(),\n",
        "    Dense(512, activation='relu'),\n",
        "    Dropout(0.5),\n",
        "    Dense(10, activation='softmax')\n",
        "])\n",
        "model.summary()"
      ]
    },
    {
      "cell_type": "code",
      "execution_count": null,
      "metadata": {
        "id": "YX-iecOQQZ3t"
      },
      "outputs": [],
      "source": [
        "model.compile(optimizer='adam', loss='categorical_crossentropy', metrics=['accuracy'])"
      ]
    },
    {
      "cell_type": "code",
      "execution_count": null,
      "metadata": {
        "id": "4qEzYgJCQk39"
      },
      "outputs": [],
      "source": [
        "model_path = 'best-mnist-cnn-v4.h5'\n",
        "checkpoint = ModelCheckpoint(model_path, save_best_only=True, verbose=1)\n",
        "early_stop = EarlyStopping(patience=10)"
      ]
    },
    {
      "cell_type": "code",
      "execution_count": null,
      "metadata": {
        "colab": {
          "background_save": true,
          "base_uri": "https://localhost:8080/"
        },
        "id": "-Wzx1NMoQk1m",
        "outputId": "dbff954a-efc9-41b6-c428-4c01d2630b8f"
      },
      "outputs": [
        {
          "name": "stdout",
          "output_type": "stream",
          "text": [
            "\n",
            "Epoch 00001: val_loss improved from inf to 0.05756, saving model to best-mnist-cnn-v4.h5\n",
            "\n",
            "Epoch 00002: val_loss improved from 0.05756 to 0.04859, saving model to best-mnist-cnn-v4.h5\n",
            "\n",
            "Epoch 00003: val_loss improved from 0.04859 to 0.04117, saving model to best-mnist-cnn-v4.h5\n",
            "\n",
            "Epoch 00004: val_loss improved from 0.04117 to 0.03540, saving model to best-mnist-cnn-v4.h5\n",
            "\n",
            "Epoch 00005: val_loss did not improve from 0.03540\n",
            "\n",
            "Epoch 00006: val_loss improved from 0.03540 to 0.03450, saving model to best-mnist-cnn-v4.h5\n",
            "\n",
            "Epoch 00007: val_loss did not improve from 0.03450\n",
            "\n",
            "Epoch 00008: val_loss did not improve from 0.03450\n",
            "\n",
            "Epoch 00009: val_loss improved from 0.03450 to 0.03431, saving model to best-mnist-cnn-v4.h5\n",
            "\n",
            "Epoch 00010: val_loss did not improve from 0.03431\n",
            "\n",
            "Epoch 00011: val_loss did not improve from 0.03431\n",
            "\n",
            "Epoch 00012: val_loss did not improve from 0.03431\n",
            "\n",
            "Epoch 00013: val_loss did not improve from 0.03431\n",
            "\n",
            "Epoch 00014: val_loss improved from 0.03431 to 0.03380, saving model to best-mnist-cnn-v4.h5\n",
            "\n",
            "Epoch 00015: val_loss did not improve from 0.03380\n",
            "\n",
            "Epoch 00016: val_loss did not improve from 0.03380\n",
            "\n",
            "Epoch 00017: val_loss did not improve from 0.03380\n",
            "\n",
            "Epoch 00018: val_loss did not improve from 0.03380\n",
            "\n",
            "Epoch 00019: val_loss did not improve from 0.03380\n",
            "\n",
            "Epoch 00020: val_loss did not improve from 0.03380\n",
            "\n",
            "Epoch 00021: val_loss did not improve from 0.03380\n",
            "\n",
            "Epoch 00022: val_loss did not improve from 0.03380\n",
            "\n",
            "Epoch 00023: val_loss did not improve from 0.03380\n",
            "\n",
            "Epoch 00024: val_loss did not improve from 0.03380\n"
          ]
        }
      ],
      "source": [
        "hist = model.fit(\n",
        "    X_train, Y_train, validation_split=0.2, epochs=100, batch_size=200,\n",
        "    callbacks=[checkpoint, early_stop], verbose=0\n",
        ")"
      ]
    },
    {
      "cell_type": "code",
      "execution_count": null,
      "metadata": {
        "colab": {
          "background_save": true
        },
        "id": "qRzkNrbqQkzQ",
        "outputId": "3a9b1b39-ee74-4ba3-832d-046b4892f868"
      },
      "outputs": [
        {
          "name": "stdout",
          "output_type": "stream",
          "text": [
            "313/313 [==============================] - 11s 35ms/step - loss: 0.0305 - accuracy: 0.9911\n"
          ]
        },
        {
          "data": {
            "text/plain": [
              "[0.03052208572626114, 0.991100013256073]"
            ]
          },
          "execution_count": null,
          "metadata": {},
          "output_type": "execute_result"
        }
      ],
      "source": [
        "best_model = load_model(model_path)\n",
        "best_model.evaluate(X_test, Y_test)"
      ]
    }
  ],
  "metadata": {
    "colab": {
      "collapsed_sections": [],
      "name": "06.MNIST_CNN_v4.ipynb",
      "provenance": []
    },
    "kernelspec": {
      "display_name": "Python 3",
      "name": "python3"
    },
    "language_info": {
      "name": "python"
    }
  },
  "nbformat": 4,
  "nbformat_minor": 0
}