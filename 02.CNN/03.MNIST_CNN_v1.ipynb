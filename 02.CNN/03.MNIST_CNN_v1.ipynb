{
  "cells": [
    {
      "cell_type": "markdown",
      "metadata": {
        "id": "gLAHW-NxogJ4"
      },
      "source": [
        "### MNIST 손글씨 - CNN v1\n",
        "- 2 Conv2D layers\n",
        "- Fully Connected Network layer\n",
        "- Output layer\n",
        "-"
      ]
    },
    {
      "cell_type": "code",
      "execution_count": 20,
      "metadata": {
        "id": "-kFwoV4qofmM"
      },
      "outputs": [],
      "source": [
        "import numpy as np\n",
        "import tensorflow as tf\n",
        "seed = 2022\n",
        "np.random.seed(seed)\n",
        "tf.random.set_seed(seed)"
      ]
    },
    {
      "cell_type": "markdown",
      "metadata": {
        "id": "dsxfGwjVo0mc"
      },
      "source": [
        "- 데이터 전처리"
      ]
    },
    {
      "cell_type": "code",
      "execution_count": 21,
      "metadata": {
        "id": "o9w9vaoLoz8d"
      },
      "outputs": [],
      "source": [
        "from tensorflow.keras.datasets import mnist\n",
        "(X_train, y_train), (X_test, y_test) = mnist.load_data()"
      ]
    },
    {
      "cell_type": "code",
      "execution_count": 22,
      "metadata": {
        "id": "OHAbQfMUo9Qj"
      },
      "outputs": [],
      "source": [
        "# X data : 0~1 사이의 값. 3차원 -> 4차원\n",
        "X_train = X_train.reshape(-1, 28,28,1) / 255.\n",
        "X_test = X_test.reshape(-1,28,28,1) /255."
      ]
    },
    {
      "cell_type": "code",
      "execution_count": 23,
      "metadata": {
        "id": "XoVodvyxqF0n"
      },
      "outputs": [],
      "source": [
        "# One-hot encoding\n",
        "from tensorflow.keras.utils import to_categorical\n",
        "Y_train = to_categorical(y_train)\n",
        "Y_test = to_categorical(y_test)"
      ]
    },
    {
      "cell_type": "markdown",
      "metadata": {
        "id": "sE6ohpjrORak"
      },
      "source": [
        "- 모델 정의 / 설정 / 학습 / 평가"
      ]
    },
    {
      "cell_type": "code",
      "execution_count": 24,
      "metadata": {
        "id": "rB1IC54wqQ0e"
      },
      "outputs": [],
      "source": [
        "from tensorflow.keras.models import Sequential, load_model\n",
        "from tensorflow.keras.layers import Dense, Conv2D, Flatten\n",
        "from tensorflow.keras.callbacks import ModelCheckpoint, EarlyStopping "
      ]
    },
    {
      "cell_type": "code",
      "execution_count": 25,
      "metadata": {
        "colab": {
          "base_uri": "https://localhost:8080/"
        },
        "id": "taqpQwDWqgR0",
        "outputId": "b8534397-dd5b-4c62-8b39-e64550b4c1d1"
      },
      "outputs": [
        {
          "name": "stdout",
          "output_type": "stream",
          "text": [
            "Model: \"sequential_2\"\n",
            "_________________________________________________________________\n",
            " Layer (type)                Output Shape              Param #   \n",
            "=================================================================\n",
            " conv2d_4 (Conv2D)           (None, 26, 26, 32)        320       \n",
            "                                                                 \n",
            " conv2d_5 (Conv2D)           (None, 24, 24, 64)        18496     \n",
            "                                                                 \n",
            " flatten_2 (Flatten)         (None, 36864)             0         \n",
            "                                                                 \n",
            " dense_4 (Dense)             (None, 512)               18874880  \n",
            "                                                                 \n",
            " dense_5 (Dense)             (None, 10)                5130      \n",
            "                                                                 \n",
            "=================================================================\n",
            "Total params: 18,898,826\n",
            "Trainable params: 18,898,826\n",
            "Non-trainable params: 0\n",
            "_________________________________________________________________\n"
          ]
        }
      ],
      "source": [
        "model = Sequential([ \n",
        "    Conv2D(32, kernel_size=(3,3), input_shape=(28,28,1), activation='relu'),\n",
        "    Conv2D(64, (3,3), activation='relu'),\n",
        "    Flatten(),\n",
        "    Dense(512, activation='relu'),\n",
        "    Dense(10, activation='softmax')\n",
        "])\n",
        "model.summary()"
      ]
    },
    {
      "cell_type": "code",
      "execution_count": 26,
      "metadata": {
        "id": "wk_hXz9-r9jU"
      },
      "outputs": [],
      "source": [
        "model.compile(optimizer='adam', loss='categorical_crossentropy', metrics=['accuracy'])"
      ]
    },
    {
      "cell_type": "code",
      "execution_count": 27,
      "metadata": {
        "id": "EnjRSBQdtqNQ"
      },
      "outputs": [],
      "source": [
        "model_path = 'best-mnist-cnn-v1.h5'\n",
        "checkpoint = ModelCheckpoint(model_path, save_best_only=True, verbose=1)\n",
        "early_stop = EarlyStopping(patience=10)"
      ]
    },
    {
      "cell_type": "code",
      "execution_count": 28,
      "metadata": {
        "colab": {
          "base_uri": "https://localhost:8080/"
        },
        "id": "23lrsQ-Rt7V_",
        "outputId": "0f5549d2-efa4-48ac-a913-8b7bd87ee88f"
      },
      "outputs": [
        {
          "name": "stdout",
          "output_type": "stream",
          "text": [
            "Epoch 1/100\n",
            "240/240 [==============================] - ETA: 0s - loss: 0.1522 - accuracy: 0.9534\n",
            "Epoch 00001: val_loss improved from inf to 0.05629, saving model to best-mnist-cnn-v1.h5\n",
            "240/240 [==============================] - 249s 1s/step - loss: 0.1522 - accuracy: 0.9534 - val_loss: 0.0563 - val_accuracy: 0.9834\n",
            "Epoch 2/100\n",
            "240/240 [==============================] - ETA: 0s - loss: 0.0355 - accuracy: 0.9893\n",
            "Epoch 00002: val_loss improved from 0.05629 to 0.05309, saving model to best-mnist-cnn-v1.h5\n",
            "240/240 [==============================] - 249s 1s/step - loss: 0.0355 - accuracy: 0.9893 - val_loss: 0.0531 - val_accuracy: 0.9852\n",
            "Epoch 3/100\n",
            "240/240 [==============================] - ETA: 0s - loss: 0.0175 - accuracy: 0.9946\n",
            "Epoch 00003: val_loss improved from 0.05309 to 0.04431, saving model to best-mnist-cnn-v1.h5\n",
            "240/240 [==============================] - 249s 1s/step - loss: 0.0175 - accuracy: 0.9946 - val_loss: 0.0443 - val_accuracy: 0.9876\n",
            "Epoch 4/100\n",
            "240/240 [==============================] - ETA: 0s - loss: 0.0108 - accuracy: 0.9965\n",
            "Epoch 00004: val_loss did not improve from 0.04431\n",
            "240/240 [==============================] - 248s 1s/step - loss: 0.0108 - accuracy: 0.9965 - val_loss: 0.0471 - val_accuracy: 0.9868\n",
            "Epoch 5/100\n",
            "240/240 [==============================] - ETA: 0s - loss: 0.0058 - accuracy: 0.9982\n",
            "Epoch 00005: val_loss did not improve from 0.04431\n",
            "240/240 [==============================] - 247s 1s/step - loss: 0.0058 - accuracy: 0.9982 - val_loss: 0.0589 - val_accuracy: 0.9867\n",
            "Epoch 6/100\n",
            "240/240 [==============================] - ETA: 0s - loss: 0.0063 - accuracy: 0.9979\n",
            "Epoch 00006: val_loss did not improve from 0.04431\n",
            "240/240 [==============================] - 248s 1s/step - loss: 0.0063 - accuracy: 0.9979 - val_loss: 0.0552 - val_accuracy: 0.9872\n",
            "Epoch 7/100\n",
            "240/240 [==============================] - ETA: 0s - loss: 0.0062 - accuracy: 0.9979\n",
            "Epoch 00007: val_loss did not improve from 0.04431\n",
            "240/240 [==============================] - 248s 1s/step - loss: 0.0062 - accuracy: 0.9979 - val_loss: 0.0538 - val_accuracy: 0.9887\n",
            "Epoch 8/100\n",
            "240/240 [==============================] - ETA: 0s - loss: 0.0038 - accuracy: 0.9988\n",
            "Epoch 00008: val_loss did not improve from 0.04431\n",
            "240/240 [==============================] - 249s 1s/step - loss: 0.0038 - accuracy: 0.9988 - val_loss: 0.0532 - val_accuracy: 0.9891\n",
            "Epoch 9/100\n",
            "240/240 [==============================] - ETA: 0s - loss: 0.0033 - accuracy: 0.9990\n",
            "Epoch 00009: val_loss did not improve from 0.04431\n",
            "240/240 [==============================] - 249s 1s/step - loss: 0.0033 - accuracy: 0.9990 - val_loss: 0.0513 - val_accuracy: 0.9887\n",
            "Epoch 10/100\n",
            "240/240 [==============================] - ETA: 0s - loss: 0.0024 - accuracy: 0.9993\n",
            "Epoch 00010: val_loss did not improve from 0.04431\n",
            "240/240 [==============================] - 249s 1s/step - loss: 0.0024 - accuracy: 0.9993 - val_loss: 0.0541 - val_accuracy: 0.9896\n",
            "Epoch 11/100\n",
            "240/240 [==============================] - ETA: 0s - loss: 0.0044 - accuracy: 0.9988\n",
            "Epoch 00011: val_loss did not improve from 0.04431\n",
            "240/240 [==============================] - 250s 1s/step - loss: 0.0044 - accuracy: 0.9988 - val_loss: 0.0605 - val_accuracy: 0.9875\n",
            "Epoch 12/100\n",
            "240/240 [==============================] - ETA: 0s - loss: 0.0048 - accuracy: 0.9987\n",
            "Epoch 00012: val_loss did not improve from 0.04431\n",
            "240/240 [==============================] - 251s 1s/step - loss: 0.0048 - accuracy: 0.9987 - val_loss: 0.0587 - val_accuracy: 0.9886\n",
            "Epoch 13/100\n",
            "240/240 [==============================] - ETA: 0s - loss: 0.0020 - accuracy: 0.9994\n",
            "Epoch 00013: val_loss did not improve from 0.04431\n",
            "240/240 [==============================] - 250s 1s/step - loss: 0.0020 - accuracy: 0.9994 - val_loss: 0.0512 - val_accuracy: 0.9902\n"
          ]
        }
      ],
      "source": [
        "hist = model.fit(\n",
        "    X_train, Y_train, validation_split=0.2, epochs=100, batch_size=200,\n",
        "    callbacks=[checkpoint, early_stop]\n",
        ")"
      ]
    },
    {
      "cell_type": "code",
      "execution_count": 29,
      "metadata": {
        "colab": {
          "base_uri": "https://localhost:8080/"
        },
        "id": "PhosG5_HuqmX",
        "outputId": "f5c98622-fb1c-4ed9-9653-c2acb5bff30d"
      },
      "outputs": [
        {
          "name": "stdout",
          "output_type": "stream",
          "text": [
            "313/313 [==============================] - 14s 45ms/step - loss: 0.0406 - accuracy: 0.9870\n"
          ]
        },
        {
          "data": {
            "text/plain": [
              "[0.04059692844748497, 0.9869999885559082]"
            ]
          },
          "execution_count": 29,
          "metadata": {},
          "output_type": "execute_result"
        }
      ],
      "source": [
        "best_model = load_model(model_path)\n",
        "best_model.evaluate(X_test, Y_test)"
      ]
    }
  ],
  "metadata": {
    "colab": {
      "collapsed_sections": [],
      "name": "03.MNIST_CNN_v1.ipynb",
      "provenance": []
    },
    "kernelspec": {
      "display_name": "Python 3",
      "name": "python3"
    },
    "language_info": {
      "name": "python"
    }
  },
  "nbformat": 4,
  "nbformat_minor": 0
}
