{
  "cells": [
    {
      "cell_type": "markdown",
      "metadata": {
        "id": "faUEowZkFvLi"
      },
      "source": [
        "### MNIST 손글씨 - 머신러닝 SVM"
      ]
    },
    {
      "cell_type": "code",
      "execution_count": null,
      "metadata": {
        "colab": {
          "base_uri": "https://localhost:8080/"
        },
        "id": "Cl8lpAMKFsHG",
        "outputId": "b0aa9261-e34e-4c9d-ff57-9809764d407a"
      },
      "outputs": [
        {
          "name": "stdout",
          "output_type": "stream",
          "text": [
            "Downloading data from https://storage.googleapis.com/tensorflow/tf-keras-datasets/mnist.npz\n",
            "11493376/11490434 [==============================] - 0s 0us/step\n",
            "11501568/11490434 [==============================] - 0s 0us/step\n"
          ]
        }
      ],
      "source": [
        "import numpy as np\n",
        "from tensorflow.keras.datasets import mnist\n",
        "(X_train, y_train), (X_test, y_test) = mnist.load_data()"
      ]
    },
    {
      "cell_type": "code",
      "execution_count": null,
      "metadata": {
        "id": "_GtYP4dOF2rp"
      },
      "outputs": [],
      "source": [
        "# X data 전처리\n",
        "X_train = X_train.reshape(-1, 784) / 255.\n",
        "X_test = X_test.reshape(-1, 784) / 255."
      ]
    },
    {
      "cell_type": "markdown",
      "metadata": {
        "id": "SxAKGPpiGdkl"
      },
      "source": [
        "- SVM, GridSearchCV"
      ]
    },
    {
      "cell_type": "code",
      "execution_count": null,
      "metadata": {
        "id": "eB0SbCRxGX3x"
      },
      "outputs": [],
      "source": [
        "from sklearn.svm import SVC\n",
        "from sklearn.model_selection import GridSearchCV"
      ]
    },
    {
      "cell_type": "code",
      "execution_count": null,
      "metadata": {
        "id": "bvPQ2sCRG2IJ"
      },
      "outputs": [],
      "source": [
        "params = {'C': [0.1,1,5,10]}\n",
        "svc = SVC(random_state = 2022)"
      ]
    },
    {
      "cell_type": "code",
      "execution_count": null,
      "metadata": {
        "colab": {
          "background_save": true
        },
        "id": "gNMN0_8jG9n6",
        "outputId": "6dab0ef4-cfe4-4c54-add6-41eff9f39daa"
      },
      "outputs": [
        {
          "name": "stdout",
          "output_type": "stream",
          "text": [
            "CPU times: user 5min 9s, sys: 2.73 s, total: 5min 12s\n",
            "Wall time: 1h 11min 56s\n"
          ]
        },
        {
          "data": {
            "text/plain": [
              "GridSearchCV(cv=3, estimator=SVC(random_state=2022), n_jobs=-1,\n",
              "             param_grid={'C': [0.1, 1, 5, 10]}, scoring='accuracy')"
            ]
          },
          "execution_count": null,
          "metadata": {},
          "output_type": "execute_result"
        }
      ],
      "source": [
        "grid_svc = GridSearchCV(\n",
        "    svc, param_grid = params, scoring = 'accuracy', cv =3, n_jobs = -1\n",
        ")\n",
        "%time grid_svc.fit(X_train, y_train)"
      ]
    },
    {
      "cell_type": "code",
      "execution_count": null,
      "metadata": {
        "colab": {
          "background_save": true
        },
        "id": "CwRhKLAzm_0V",
        "outputId": "82bd4611-dc0a-4118-c602-40221e45e5bc"
      },
      "outputs": [
        {
          "data": {
            "text/plain": [
              "{'C': 10}"
            ]
          },
          "execution_count": null,
          "metadata": {},
          "output_type": "execute_result"
        }
      ],
      "source": [
        "grid_svc.best_params_"
      ]
    },
    {
      "cell_type": "code",
      "execution_count": null,
      "metadata": {
        "colab": {
          "background_save": true
        },
        "id": "61bI--ajnCNs",
        "outputId": "d33e5767-db8c-4788-9e8a-cadb0fbd297b"
      },
      "outputs": [
        {
          "data": {
            "text/plain": [
              "0.9837"
            ]
          },
          "execution_count": null,
          "metadata": {},
          "output_type": "execute_result"
        }
      ],
      "source": [
        "grid_svc.best_estimator_.score(X_test, y_test)"
      ]
    },
    {
      "cell_type": "code",
      "execution_count": null,
      "metadata": {
        "colab": {
          "background_save": true
        },
        "id": "L1QfW9u4ndx3",
        "outputId": "2f6509ad-55b7-49f9-9366-bf4e3e7122bb"
      },
      "outputs": [
        {
          "data": {
            "text/plain": [
              "['best-mnist-svm.pkl']"
            ]
          },
          "execution_count": null,
          "metadata": {},
          "output_type": "execute_result"
        }
      ],
      "source": [
        "import joblib\n",
        "joblib.dump(grid_svc.best_estimator_, 'best-mnist-svm.pkl')\n",
        "# 세이브 ->다운로드"
      ]
    }
  ],
  "metadata": {
    "colab": {
      "collapsed_sections": [],
      "name": "02.MNIST-SVM.ipynb",
      "provenance": []
    },
    "kernelspec": {
      "display_name": "Python 3",
      "name": "python3"
    },
    "language_info": {
      "name": "python"
    }
  },
  "nbformat": 4,
  "nbformat_minor": 0
}