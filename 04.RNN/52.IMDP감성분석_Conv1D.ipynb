{
  "nbformat": 4,
  "nbformat_minor": 0,
  "metadata": {
    "colab": {
      "name": "52.IMDP감성분석-Conv1D.ipynb",
      "provenance": [],
      "collapsed_sections": []
    },
    "kernelspec": {
      "name": "python3",
      "display_name": "Python 3"
    },
    "language_info": {
      "name": "python"
    },
    "accelerator": "GPU"
  },
  "cells": [
    {
      "cell_type": "markdown",
      "source": [
        "## IMDB 영화 리뷰 감성 분석 - Conv1D"
      ],
      "metadata": {
        "id": "_-_RQ_cV96dw"
      }
    },
    {
      "cell_type": "code",
      "execution_count": 1,
      "metadata": {
        "id": "HNq7Z21L91gO"
      },
      "outputs": [],
      "source": [
        "import numpy as np\n",
        "import matplotlib.pyplot as plt\n",
        "from tensorflow.keras.datasets import imdb\n",
        "import warnings\n",
        "warnings.filterwarnings('ignore')"
      ]
    },
    {
      "cell_type": "markdown",
      "source": [
        "### Conv1D로 IMDB 리뷰 감성 분석\n",
        "- 단어 빈도수 : 10,000 (총 88,584)\n",
        "- 문장의 단어수 : 500 (2,494)\n",
        "- test data 중 40% (10,000개)는 검증용으로"
      ],
      "metadata": {
        "id": "VgeK79SW_waQ"
      }
    },
    {
      "cell_type": "code",
      "source": [
        "import tensorflow as tf\n",
        "seed = 2022\n",
        "np.random.seed(seed)\n",
        "tf.random.set_seed(seed)"
      ],
      "metadata": {
        "id": "brCrQkRA_vZe"
      },
      "execution_count": 2,
      "outputs": []
    },
    {
      "cell_type": "code",
      "source": [
        "from tensorflow.keras.models import Sequential, load_model\n",
        "from tensorflow.keras.layers import Embedding, Dense, Dropout\n",
        "from tensorflow.keras.layers import Conv1D, MaxPooling1D, GlobalMaxPooling1D\n",
        "from tensorflow.keras.preprocessing.sequence import pad_sequences\n",
        "from tensorflow.keras.callbacks import ModelCheckpoint, EarlyStopping"
      ],
      "metadata": {
        "id": "FaDDHVDQA2gy"
      },
      "execution_count": 5,
      "outputs": []
    },
    {
      "cell_type": "code",
      "source": [
        "(X_train, y_train), (X_test, y_test) = imdb.load_data(num_words=10000)\n",
        "X_train.shape, X_test.shape, y_train.shape"
      ],
      "metadata": {
        "colab": {
          "base_uri": "https://localhost:8080/"
        },
        "id": "IHFKF2wRA6a9",
        "outputId": "68e86de2-c82f-43af-a85a-b818888ed349"
      },
      "execution_count": 6,
      "outputs": [
        {
          "output_type": "stream",
          "name": "stdout",
          "text": [
            "Downloading data from https://storage.googleapis.com/tensorflow/tf-keras-datasets/imdb.npz\n",
            "17465344/17464789 [==============================] - 0s 0us/step\n",
            "17473536/17464789 [==============================] - 0s 0us/step\n"
          ]
        },
        {
          "output_type": "execute_result",
          "data": {
            "text/plain": [
              "((25000,), (25000,), (25000,))"
            ]
          },
          "metadata": {},
          "execution_count": 6
        }
      ]
    },
    {
      "cell_type": "code",
      "source": [
        "max_len = 500\n",
        "X_train = pad_sequences(X_train, maxlen=max_len)\n",
        "X_test = pad_sequences(X_test, maxlen=max_len)\n",
        "X_train.shape, X_test.shape"
      ],
      "metadata": {
        "colab": {
          "base_uri": "https://localhost:8080/"
        },
        "id": "o4HIEaJTBAR2",
        "outputId": "5ec8d6e7-c73d-4388-8a7b-325455b9d43c"
      },
      "execution_count": 7,
      "outputs": [
        {
          "output_type": "execute_result",
          "data": {
            "text/plain": [
              "((25000, 500), (25000, 500))"
            ]
          },
          "metadata": {},
          "execution_count": 7
        }
      ]
    },
    {
      "cell_type": "code",
      "source": [
        "from sklearn.model_selection import train_test_split\n",
        "X_test, X_valid, y_test, y_valid = train_test_split(\n",
        "    X_test, y_test, stratify=y_test, test_size=0.4, random_state=seed\n",
        ")\n",
        "X_test.shape, X_valid.shape, y_test.shape, y_valid.shape"
      ],
      "metadata": {
        "colab": {
          "base_uri": "https://localhost:8080/"
        },
        "id": "ZuAXATlHDBFU",
        "outputId": "1b5e9de9-c03d-412c-f460-f107fb59d870"
      },
      "execution_count": 8,
      "outputs": [
        {
          "output_type": "execute_result",
          "data": {
            "text/plain": [
              "((15000, 500), (10000, 500), (15000,), (10000,))"
            ]
          },
          "metadata": {},
          "execution_count": 8
        }
      ]
    },
    {
      "cell_type": "markdown",
      "source": [
        "Case 1) Conv1D * 2, MaxPooling1D * 2, Dropout, GlobalMaxPooling1D\n",
        "\n",
        "\n",
        "> \n",
        "- embedding dim : 10\n",
        "- hiddin_units : 128\n"
      ],
      "metadata": {
        "id": "HykvWHUKBp55"
      }
    },
    {
      "cell_type": "code",
      "source": [
        "model1 = Sequential([\n",
        "    Embedding(10000, 100, input_length=max_len),\n",
        "    Dropout(0.5),\n",
        "    Conv1D(64, 5, activation='relu'),\n",
        "    MaxPooling1D(5),\n",
        "    GlobalMaxPooling1D(),\n",
        "    Dense(1, activation='sigmoid')\n",
        "])\n",
        "model1.summary()"
      ],
      "metadata": {
        "colab": {
          "base_uri": "https://localhost:8080/"
        },
        "id": "FGfAqklaBdwF",
        "outputId": "c1fcc4b9-65a6-4d17-b0ec-82a1d951ff8a"
      },
      "execution_count": 16,
      "outputs": [
        {
          "output_type": "stream",
          "name": "stdout",
          "text": [
            "Model: \"sequential_3\"\n",
            "_________________________________________________________________\n",
            " Layer (type)                Output Shape              Param #   \n",
            "=================================================================\n",
            " embedding_3 (Embedding)     (None, 500, 100)          1000000   \n",
            "                                                                 \n",
            " dropout_3 (Dropout)         (None, 500, 100)          0         \n",
            "                                                                 \n",
            " conv1d_3 (Conv1D)           (None, 496, 64)           32064     \n",
            "                                                                 \n",
            " max_pooling1d_3 (MaxPooling  (None, 99, 64)           0         \n",
            " 1D)                                                             \n",
            "                                                                 \n",
            " global_max_pooling1d_1 (Glo  (None, 64)               0         \n",
            " balMaxPooling1D)                                                \n",
            "                                                                 \n",
            " dense_3 (Dense)             (None, 1)                 65        \n",
            "                                                                 \n",
            "=================================================================\n",
            "Total params: 1,032,129\n",
            "Trainable params: 1,032,129\n",
            "Non-trainable params: 0\n",
            "_________________________________________________________________\n"
          ]
        }
      ]
    },
    {
      "cell_type": "code",
      "source": [
        "model1.compile('adam', 'binary_crossentropy', ['accuracy'])\n",
        "\n",
        "model_path= 'best-conv1d.h5'\n",
        "mc = ModelCheckpoint(model_path, save_best_only=True, verbose=1)\n",
        "es = EarlyStopping(patience=5)"
      ],
      "metadata": {
        "id": "OnSd5RYwCQzy"
      },
      "execution_count": 17,
      "outputs": []
    },
    {
      "cell_type": "code",
      "source": [
        "hist1 = model1.fit(\n",
        "    X_train, y_train, epochs=30, batch_size=128,\n",
        "    validation_data=[X_valid, y_valid],\n",
        "    callbacks=[mc,es]\n",
        ")"
      ],
      "metadata": {
        "colab": {
          "base_uri": "https://localhost:8080/"
        },
        "id": "6B9_1AeSCnE0",
        "outputId": "21221efd-bf4d-4e15-95e9-de95c65ce711"
      },
      "execution_count": 18,
      "outputs": [
        {
          "output_type": "stream",
          "name": "stdout",
          "text": [
            "Epoch 1/30\n",
            "196/196 [==============================] - ETA: 0s - loss: 0.6038 - accuracy: 0.6686\n",
            "Epoch 00001: val_loss improved from inf to 0.43095, saving model to best-conv1d.h5\n",
            "196/196 [==============================] - 8s 35ms/step - loss: 0.6038 - accuracy: 0.6686 - val_loss: 0.4310 - val_accuracy: 0.8085\n",
            "Epoch 2/30\n",
            "194/196 [============================>.] - ETA: 0s - loss: 0.3550 - accuracy: 0.8477\n",
            "Epoch 00002: val_loss improved from 0.43095 to 0.32052, saving model to best-conv1d.h5\n",
            "196/196 [==============================] - 7s 35ms/step - loss: 0.3548 - accuracy: 0.8477 - val_loss: 0.3205 - val_accuracy: 0.8656\n",
            "Epoch 3/30\n",
            "195/196 [============================>.] - ETA: 0s - loss: 0.2614 - accuracy: 0.8949\n",
            "Epoch 00003: val_loss improved from 0.32052 to 0.31007, saving model to best-conv1d.h5\n",
            "196/196 [==============================] - 8s 41ms/step - loss: 0.2616 - accuracy: 0.8947 - val_loss: 0.3101 - val_accuracy: 0.8674\n",
            "Epoch 4/30\n",
            "195/196 [============================>.] - ETA: 0s - loss: 0.2084 - accuracy: 0.9181\n",
            "Epoch 00004: val_loss improved from 0.31007 to 0.30777, saving model to best-conv1d.h5\n",
            "196/196 [==============================] - 8s 40ms/step - loss: 0.2083 - accuracy: 0.9182 - val_loss: 0.3078 - val_accuracy: 0.8704\n",
            "Epoch 5/30\n",
            "195/196 [============================>.] - ETA: 0s - loss: 0.1662 - accuracy: 0.9379\n",
            "Epoch 00005: val_loss did not improve from 0.30777\n",
            "196/196 [==============================] - 8s 39ms/step - loss: 0.1663 - accuracy: 0.9378 - val_loss: 0.3142 - val_accuracy: 0.8728\n",
            "Epoch 6/30\n",
            "196/196 [==============================] - ETA: 0s - loss: 0.1339 - accuracy: 0.9511\n",
            "Epoch 00006: val_loss did not improve from 0.30777\n",
            "196/196 [==============================] - 8s 39ms/step - loss: 0.1339 - accuracy: 0.9511 - val_loss: 0.3394 - val_accuracy: 0.8659\n",
            "Epoch 7/30\n",
            "196/196 [==============================] - ETA: 0s - loss: 0.1080 - accuracy: 0.9625\n",
            "Epoch 00007: val_loss did not improve from 0.30777\n",
            "196/196 [==============================] - 8s 38ms/step - loss: 0.1080 - accuracy: 0.9625 - val_loss: 0.3459 - val_accuracy: 0.8707\n",
            "Epoch 8/30\n",
            "195/196 [============================>.] - ETA: 0s - loss: 0.0870 - accuracy: 0.9714\n",
            "Epoch 00008: val_loss did not improve from 0.30777\n",
            "196/196 [==============================] - 7s 36ms/step - loss: 0.0870 - accuracy: 0.9714 - val_loss: 0.3638 - val_accuracy: 0.8704\n",
            "Epoch 9/30\n",
            "195/196 [============================>.] - ETA: 0s - loss: 0.0692 - accuracy: 0.9782\n",
            "Epoch 00009: val_loss did not improve from 0.30777\n",
            "196/196 [==============================] - 7s 34ms/step - loss: 0.0692 - accuracy: 0.9782 - val_loss: 0.3836 - val_accuracy: 0.8690\n"
          ]
        }
      ]
    },
    {
      "cell_type": "code",
      "source": [
        "best_model = load_model(model_path)\n",
        "best_model.evaluate(X_test, y_test)"
      ],
      "metadata": {
        "colab": {
          "base_uri": "https://localhost:8080/"
        },
        "id": "fG5TayD3D88G",
        "outputId": "f98c3c05-83ff-498a-8dcb-394cd1acbfed"
      },
      "execution_count": 19,
      "outputs": [
        {
          "output_type": "stream",
          "name": "stdout",
          "text": [
            "469/469 [==============================] - 2s 5ms/step - loss: 0.3159 - accuracy: 0.8650\n"
          ]
        },
        {
          "output_type": "execute_result",
          "data": {
            "text/plain": [
              "[0.3158935308456421, 0.8650000095367432]"
            ]
          },
          "metadata": {},
          "execution_count": 19
        }
      ]
    },
    {
      "cell_type": "markdown",
      "source": [
        "- Case 2) Conv1D + LSTM"
      ],
      "metadata": {
        "id": "kAEPQUsHoOua"
      }
    },
    {
      "cell_type": "code",
      "source": [
        "from tensorflow.keras.layers import LSTM"
      ],
      "metadata": {
        "id": "-S3VqUb-oTk7"
      },
      "execution_count": 20,
      "outputs": []
    },
    {
      "cell_type": "code",
      "source": [
        "model2 = Sequential([\n",
        "    Embedding(10000, 100, input_length=max_len),\n",
        "    Dropout(0.5),\n",
        "    Conv1D(64, 5, activation='relu'),\n",
        "    MaxPooling1D(5),\n",
        "    LSTM(100),\n",
        "    Dense(1, activation='sigmoid')\n",
        "])\n",
        "model2.summary()"
      ],
      "metadata": {
        "colab": {
          "base_uri": "https://localhost:8080/"
        },
        "id": "WmEYXJZBoTOA",
        "outputId": "d8961e4b-edad-4a04-94c4-9fd7a50538c9"
      },
      "execution_count": 21,
      "outputs": [
        {
          "output_type": "stream",
          "name": "stdout",
          "text": [
            "Model: \"sequential_4\"\n",
            "_________________________________________________________________\n",
            " Layer (type)                Output Shape              Param #   \n",
            "=================================================================\n",
            " embedding_4 (Embedding)     (None, 500, 100)          1000000   \n",
            "                                                                 \n",
            " dropout_4 (Dropout)         (None, 500, 100)          0         \n",
            "                                                                 \n",
            " conv1d_4 (Conv1D)           (None, 496, 64)           32064     \n",
            "                                                                 \n",
            " max_pooling1d_4 (MaxPooling  (None, 99, 64)           0         \n",
            " 1D)                                                             \n",
            "                                                                 \n",
            " lstm_2 (LSTM)               (None, 100)               66000     \n",
            "                                                                 \n",
            " dense_4 (Dense)             (None, 1)                 101       \n",
            "                                                                 \n",
            "=================================================================\n",
            "Total params: 1,098,165\n",
            "Trainable params: 1,098,165\n",
            "Non-trainable params: 0\n",
            "_________________________________________________________________\n"
          ]
        }
      ]
    },
    {
      "cell_type": "code",
      "source": [
        "model2.compile('adam', 'binary_crossentropy', ['accuracy'])\n",
        "\n",
        "model_path= 'best-conv1d-lstm.h5'\n",
        "mc = ModelCheckpoint(model_path, save_best_only=True, verbose=1)\n",
        "es = EarlyStopping(patience=5)"
      ],
      "metadata": {
        "id": "59Fc_k1YojUM"
      },
      "execution_count": 22,
      "outputs": []
    },
    {
      "cell_type": "code",
      "source": [
        "hist2 = model2.fit(\n",
        "    X_train, y_train, epochs=30, batch_size=128,\n",
        "    validation_data=[X_valid, y_valid],\n",
        "    callbacks=[mc,es]\n",
        ")"
      ],
      "metadata": {
        "colab": {
          "base_uri": "https://localhost:8080/"
        },
        "id": "Y76loqIto7Qh",
        "outputId": "9ca5b83d-38e5-4171-c1a1-1abddfe1cade"
      },
      "execution_count": 23,
      "outputs": [
        {
          "output_type": "stream",
          "name": "stdout",
          "text": [
            "Epoch 1/30\n",
            "195/196 [============================>.] - ETA: 0s - loss: 0.4332 - accuracy: 0.7761\n",
            "Epoch 00001: val_loss improved from inf to 0.28424, saving model to best-conv1d-lstm.h5\n",
            "196/196 [==============================] - 16s 68ms/step - loss: 0.4330 - accuracy: 0.7762 - val_loss: 0.2842 - val_accuracy: 0.8802\n",
            "Epoch 2/30\n",
            "195/196 [============================>.] - ETA: 0s - loss: 0.2189 - accuracy: 0.9157\n",
            "Epoch 00002: val_loss did not improve from 0.28424\n",
            "196/196 [==============================] - 13s 65ms/step - loss: 0.2189 - accuracy: 0.9157 - val_loss: 0.2920 - val_accuracy: 0.8743\n",
            "Epoch 3/30\n",
            "195/196 [============================>.] - ETA: 0s - loss: 0.1633 - accuracy: 0.9397\n",
            "Epoch 00003: val_loss did not improve from 0.28424\n",
            "196/196 [==============================] - 13s 66ms/step - loss: 0.1634 - accuracy: 0.9397 - val_loss: 0.3126 - val_accuracy: 0.8776\n",
            "Epoch 4/30\n",
            "195/196 [============================>.] - ETA: 0s - loss: 0.1222 - accuracy: 0.9565\n",
            "Epoch 00004: val_loss did not improve from 0.28424\n",
            "196/196 [==============================] - 13s 66ms/step - loss: 0.1222 - accuracy: 0.9565 - val_loss: 0.3212 - val_accuracy: 0.8688\n",
            "Epoch 5/30\n",
            "195/196 [============================>.] - ETA: 0s - loss: 0.0957 - accuracy: 0.9677\n",
            "Epoch 00005: val_loss did not improve from 0.28424\n",
            "196/196 [==============================] - 13s 66ms/step - loss: 0.0958 - accuracy: 0.9677 - val_loss: 0.3623 - val_accuracy: 0.8712\n",
            "Epoch 6/30\n",
            "195/196 [============================>.] - ETA: 0s - loss: 0.0729 - accuracy: 0.9757\n",
            "Epoch 00006: val_loss did not improve from 0.28424\n",
            "196/196 [==============================] - 13s 66ms/step - loss: 0.0729 - accuracy: 0.9757 - val_loss: 0.4186 - val_accuracy: 0.8655\n"
          ]
        }
      ]
    },
    {
      "cell_type": "code",
      "source": [
        "best_model = load_model(model_path)\n",
        "best_model.evaluate(X_test, y_test)"
      ],
      "metadata": {
        "colab": {
          "base_uri": "https://localhost:8080/"
        },
        "id": "2KTCxqpao81a",
        "outputId": "8937a92c-420e-4de6-fada-f84bc119d787"
      },
      "execution_count": 24,
      "outputs": [
        {
          "output_type": "stream",
          "name": "stdout",
          "text": [
            "469/469 [==============================] - 8s 14ms/step - loss: 0.2830 - accuracy: 0.8838\n"
          ]
        },
        {
          "output_type": "execute_result",
          "data": {
            "text/plain": [
              "[0.2829704284667969, 0.8838000297546387]"
            ]
          },
          "metadata": {},
          "execution_count": 24
        }
      ]
    },
    {
      "cell_type": "markdown",
      "source": [
        "- Case3) Conv1D + Dense"
      ],
      "metadata": {
        "id": "iQpSDx5qppqG"
      }
    },
    {
      "cell_type": "code",
      "source": [
        "model3 = Sequential([\n",
        "    Embedding(10000, 100, input_length=max_len),\n",
        "    Dropout(0.5),\n",
        "    Conv1D(64, 5, activation='relu'),\n",
        "    MaxPooling1D(4),\n",
        "    GlobalMaxPooling1D(),\n",
        "    Dense(100, activation='relu'),\n",
        "    Dense(1, activation='sigmoid')\n",
        "])\n",
        "model3.summary()"
      ],
      "metadata": {
        "colab": {
          "base_uri": "https://localhost:8080/"
        },
        "id": "rStm78_8ppBV",
        "outputId": "8828ff7c-41b6-4796-b9de-87cc89c92a44"
      },
      "execution_count": 26,
      "outputs": [
        {
          "output_type": "stream",
          "name": "stdout",
          "text": [
            "Model: \"sequential_6\"\n",
            "_________________________________________________________________\n",
            " Layer (type)                Output Shape              Param #   \n",
            "=================================================================\n",
            " embedding_6 (Embedding)     (None, 500, 100)          1000000   \n",
            "                                                                 \n",
            " dropout_6 (Dropout)         (None, 500, 100)          0         \n",
            "                                                                 \n",
            " conv1d_6 (Conv1D)           (None, 496, 64)           32064     \n",
            "                                                                 \n",
            " max_pooling1d_6 (MaxPooling  (None, 124, 64)          0         \n",
            " 1D)                                                             \n",
            "                                                                 \n",
            " global_max_pooling1d_3 (Glo  (None, 64)               0         \n",
            " balMaxPooling1D)                                                \n",
            "                                                                 \n",
            " dense_7 (Dense)             (None, 100)               6500      \n",
            "                                                                 \n",
            " dense_8 (Dense)             (None, 1)                 101       \n",
            "                                                                 \n",
            "=================================================================\n",
            "Total params: 1,038,665\n",
            "Trainable params: 1,038,665\n",
            "Non-trainable params: 0\n",
            "_________________________________________________________________\n"
          ]
        }
      ]
    },
    {
      "cell_type": "code",
      "source": [
        "model3.compile('adam', 'binary_crossentropy', ['accuracy'])\n",
        "\n",
        "model_path= 'best-imdb-conv1d-fcn.h5'\n",
        "mc = ModelCheckpoint(model_path, save_best_only=True, verbose=1)\n",
        "es = EarlyStopping(patience=5)"
      ],
      "metadata": {
        "id": "fv8KTcNfp8O3"
      },
      "execution_count": 27,
      "outputs": []
    },
    {
      "cell_type": "code",
      "source": [
        "hist3 = model3.fit(\n",
        "    X_train, y_train, epochs=30, batch_size=128,\n",
        "    validation_data=[X_valid, y_valid],\n",
        "    callbacks=[mc,es]\n",
        ")"
      ],
      "metadata": {
        "colab": {
          "base_uri": "https://localhost:8080/"
        },
        "id": "BVzNCQG2qK-q",
        "outputId": "993896d7-71a7-47b9-b184-12a0691cbc81"
      },
      "execution_count": 28,
      "outputs": [
        {
          "output_type": "stream",
          "name": "stdout",
          "text": [
            "Epoch 1/30\n",
            "195/196 [============================>.] - ETA: 0s - loss: 0.5764 - accuracy: 0.6788\n",
            "Epoch 00001: val_loss improved from inf to 0.35774, saving model to best-imdb-conv1d-fcn.h5\n",
            "196/196 [==============================] - 10s 41ms/step - loss: 0.5761 - accuracy: 0.6790 - val_loss: 0.3577 - val_accuracy: 0.8429\n",
            "Epoch 2/30\n",
            "194/196 [============================>.] - ETA: 0s - loss: 0.2919 - accuracy: 0.8793\n",
            "Epoch 00002: val_loss improved from 0.35774 to 0.27100, saving model to best-imdb-conv1d-fcn.h5\n",
            "196/196 [==============================] - 7s 36ms/step - loss: 0.2918 - accuracy: 0.8794 - val_loss: 0.2710 - val_accuracy: 0.8877\n",
            "Epoch 3/30\n",
            "195/196 [============================>.] - ETA: 0s - loss: 0.2000 - accuracy: 0.9222\n",
            "Epoch 00003: val_loss improved from 0.27100 to 0.26787, saving model to best-imdb-conv1d-fcn.h5\n",
            "196/196 [==============================] - 7s 34ms/step - loss: 0.2001 - accuracy: 0.9221 - val_loss: 0.2679 - val_accuracy: 0.8903\n",
            "Epoch 4/30\n",
            "195/196 [============================>.] - ETA: 0s - loss: 0.1447 - accuracy: 0.9448\n",
            "Epoch 00004: val_loss did not improve from 0.26787\n",
            "196/196 [==============================] - 7s 33ms/step - loss: 0.1447 - accuracy: 0.9448 - val_loss: 0.2727 - val_accuracy: 0.8927\n",
            "Epoch 5/30\n",
            "195/196 [============================>.] - ETA: 0s - loss: 0.1067 - accuracy: 0.9616\n",
            "Epoch 00005: val_loss did not improve from 0.26787\n",
            "196/196 [==============================] - 7s 36ms/step - loss: 0.1067 - accuracy: 0.9616 - val_loss: 0.3055 - val_accuracy: 0.8898\n",
            "Epoch 6/30\n",
            "195/196 [============================>.] - ETA: 0s - loss: 0.0744 - accuracy: 0.9752\n",
            "Epoch 00006: val_loss did not improve from 0.26787\n",
            "196/196 [==============================] - 7s 37ms/step - loss: 0.0744 - accuracy: 0.9752 - val_loss: 0.3225 - val_accuracy: 0.8897\n",
            "Epoch 7/30\n",
            "195/196 [============================>.] - ETA: 0s - loss: 0.0580 - accuracy: 0.9805\n",
            "Epoch 00007: val_loss did not improve from 0.26787\n",
            "196/196 [==============================] - 7s 35ms/step - loss: 0.0580 - accuracy: 0.9805 - val_loss: 0.3494 - val_accuracy: 0.8893\n",
            "Epoch 8/30\n",
            "195/196 [============================>.] - ETA: 0s - loss: 0.0433 - accuracy: 0.9854\n",
            "Epoch 00008: val_loss did not improve from 0.26787\n",
            "196/196 [==============================] - 7s 34ms/step - loss: 0.0433 - accuracy: 0.9854 - val_loss: 0.3831 - val_accuracy: 0.8886\n"
          ]
        }
      ]
    },
    {
      "cell_type": "code",
      "source": [
        "best_model = load_model(model_path)\n",
        "best_model.evaluate(X_test, y_test)"
      ],
      "metadata": {
        "colab": {
          "base_uri": "https://localhost:8080/"
        },
        "id": "0pgjtIF5qWD_",
        "outputId": "7800ad4e-1ca7-4037-c988-b221bf81f225"
      },
      "execution_count": 29,
      "outputs": [
        {
          "output_type": "stream",
          "name": "stdout",
          "text": [
            "469/469 [==============================] - 2s 5ms/step - loss: 0.2702 - accuracy: 0.8909\n"
          ]
        },
        {
          "output_type": "execute_result",
          "data": {
            "text/plain": [
              "[0.27016571164131165, 0.8908666372299194]"
            ]
          },
          "metadata": {},
          "execution_count": 29
        }
      ]
    },
    {
      "cell_type": "code",
      "source": [
        ""
      ],
      "metadata": {
        "id": "_yKvLvIgqvES"
      },
      "execution_count": null,
      "outputs": []
    }
  ]
}