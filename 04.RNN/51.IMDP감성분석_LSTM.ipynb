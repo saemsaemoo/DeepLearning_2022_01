{
  "nbformat": 4,
  "nbformat_minor": 0,
  "metadata": {
    "colab": {
      "name": "51.IMDP감성분석-LSTM.ipynb",
      "provenance": [],
      "collapsed_sections": []
    },
    "kernelspec": {
      "name": "python3",
      "display_name": "Python 3"
    },
    "language_info": {
      "name": "python"
    },
    "accelerator": "GPU"
  },
  "cells": [
    {
      "cell_type": "markdown",
      "source": [
        "## IMDB 영화 리뷰 감성 분석 - LSTM"
      ],
      "metadata": {
        "id": "_-_RQ_cV96dw"
      }
    },
    {
      "cell_type": "code",
      "execution_count": 1,
      "metadata": {
        "id": "HNq7Z21L91gO"
      },
      "outputs": [],
      "source": [
        "import numpy as np\n",
        "import matplotlib.pyplot as plt\n",
        "from tensorflow.keras.datasets import imdb\n",
        "import warnings\n",
        "warnings.filterwarnings('ignore')"
      ]
    },
    {
      "cell_type": "code",
      "source": [
        "(X_train, y_train), (X_test, y_test) = imdb.load_data()\n",
        "X_train.shape, X_test.shape, y_train.shape"
      ],
      "metadata": {
        "colab": {
          "base_uri": "https://localhost:8080/"
        },
        "id": "WWNekPsI-LqE",
        "outputId": "10c62614-f83e-4d33-d0bf-1981dd616cf3"
      },
      "execution_count": 2,
      "outputs": [
        {
          "output_type": "stream",
          "name": "stdout",
          "text": [
            "Downloading data from https://storage.googleapis.com/tensorflow/tf-keras-datasets/imdb.npz\n",
            "17465344/17464789 [==============================] - 0s 0us/step\n",
            "17473536/17464789 [==============================] - 0s 0us/step\n"
          ]
        },
        {
          "output_type": "execute_result",
          "data": {
            "text/plain": [
              "((25000,), (25000,), (25000,))"
            ]
          },
          "metadata": {},
          "execution_count": 2
        }
      ]
    },
    {
      "cell_type": "code",
      "source": [
        "from tensorflow.python.keras.datasets.imdb import get_word_index\n",
        "print('등장한 단어수', len(imdb.get_word_index()))\n",
        "print('리뷰 최대 길이', max(len(s) for s in X_train))\n",
        "print('리뷰 평균 길이', sum(map(len, X_train)) / len(X_train))"
      ],
      "metadata": {
        "colab": {
          "base_uri": "https://localhost:8080/"
        },
        "id": "Uct4zZz8_KMI",
        "outputId": "7e8cc5b2-3444-4e3f-d638-ec311e218bfe"
      },
      "execution_count": 3,
      "outputs": [
        {
          "output_type": "stream",
          "name": "stdout",
          "text": [
            "Downloading data from https://storage.googleapis.com/tensorflow/tf-keras-datasets/imdb_word_index.json\n",
            "1646592/1641221 [==============================] - 0s 0us/step\n",
            "1654784/1641221 [==============================] - 0s 0us/step\n",
            "등장한 단어수 88584\n",
            "리뷰 최대 길이 2494\n",
            "리뷰 평균 길이 238.71364\n"
          ]
        }
      ]
    },
    {
      "cell_type": "markdown",
      "source": [
        "### LSTM으로 IMDB 리뷰 감성 분석\n",
        "- 단어 빈도수 : 10,000 (총 88,584)\n",
        "- 문장의 단어수 : 500 (2,494)\n",
        "- test data 중 40% (10,000개)는 검증용으로"
      ],
      "metadata": {
        "id": "VgeK79SW_waQ"
      }
    },
    {
      "cell_type": "code",
      "source": [
        "import tensorflow as tf\n",
        "seed = 2022\n",
        "np.random.seed(seed)\n",
        "tf.random.set_seed(seed)"
      ],
      "metadata": {
        "id": "brCrQkRA_vZe"
      },
      "execution_count": 4,
      "outputs": []
    },
    {
      "cell_type": "code",
      "source": [
        "from tensorflow.keras.models import Sequential, load_model\n",
        "from tensorflow.keras.layers import Embedding, LSTM, Dense\n",
        "from tensorflow.keras.preprocessing.sequence import pad_sequences\n",
        "from tensorflow.keras.callbacks import ModelCheckpoint, EarlyStopping"
      ],
      "metadata": {
        "id": "FaDDHVDQA2gy"
      },
      "execution_count": 5,
      "outputs": []
    },
    {
      "cell_type": "code",
      "source": [
        "(X_train, y_train), (X_test, y_test) = imdb.load_data(num_words=10000)\n",
        "X_train.shape, X_test.shape, y_train.shape"
      ],
      "metadata": {
        "colab": {
          "base_uri": "https://localhost:8080/"
        },
        "id": "IHFKF2wRA6a9",
        "outputId": "5d8fb543-61d9-45b2-9e27-f37c12f96bf9"
      },
      "execution_count": 6,
      "outputs": [
        {
          "output_type": "execute_result",
          "data": {
            "text/plain": [
              "((25000,), (25000,), (25000,))"
            ]
          },
          "metadata": {},
          "execution_count": 6
        }
      ]
    },
    {
      "cell_type": "code",
      "source": [
        "max_len = 500\n",
        "X_train = pad_sequences(X_train, maxlen=max_len)\n",
        "X_test = pad_sequences(X_test, maxlen=max_len)\n",
        "X_train.shape, X_test.shape"
      ],
      "metadata": {
        "colab": {
          "base_uri": "https://localhost:8080/"
        },
        "id": "o4HIEaJTBAR2",
        "outputId": "65a39f06-0d64-4f03-f87b-215ad3c62ddd"
      },
      "execution_count": 7,
      "outputs": [
        {
          "output_type": "execute_result",
          "data": {
            "text/plain": [
              "((25000, 500), (25000, 500))"
            ]
          },
          "metadata": {},
          "execution_count": 7
        }
      ]
    },
    {
      "cell_type": "code",
      "source": [
        "from sklearn.model_selection import train_test_split\n",
        "X_test, X_valid, y_test, y_valid = train_test_split(\n",
        "    X_test, y_test, stratify=y_test, test_size=0.4, random_state=seed\n",
        ")\n",
        "X_test.shape, X_valid.shape, y_test.shape, y_valid.shape"
      ],
      "metadata": {
        "colab": {
          "base_uri": "https://localhost:8080/"
        },
        "id": "ZuAXATlHDBFU",
        "outputId": "41a344af-735a-4bed-9a9d-1c9029ed5e3a"
      },
      "execution_count": 8,
      "outputs": [
        {
          "output_type": "execute_result",
          "data": {
            "text/plain": [
              "((15000, 500), (10000, 500), (15000,), (10000,))"
            ]
          },
          "metadata": {},
          "execution_count": 8
        }
      ]
    },
    {
      "cell_type": "markdown",
      "source": [
        "Case 1) LSTM\n",
        "\n",
        "\n",
        "> \n",
        "- embedding dim : 10\n",
        "- hiddin_units : 128\n"
      ],
      "metadata": {
        "id": "HykvWHUKBp55"
      }
    },
    {
      "cell_type": "code",
      "source": [
        "model1 = Sequential([\n",
        "    Embedding(10000, 100, input_length=max_len),\n",
        "    LSTM(128),\n",
        "    Dense(1, activation='sigmoid')\n",
        "])\n",
        "model1.summary()"
      ],
      "metadata": {
        "colab": {
          "base_uri": "https://localhost:8080/"
        },
        "id": "FGfAqklaBdwF",
        "outputId": "0839e5f0-dbe2-4cc0-8b05-b7aaefde4dc3"
      },
      "execution_count": 9,
      "outputs": [
        {
          "output_type": "stream",
          "name": "stdout",
          "text": [
            "Model: \"sequential\"\n",
            "_________________________________________________________________\n",
            " Layer (type)                Output Shape              Param #   \n",
            "=================================================================\n",
            " embedding (Embedding)       (None, 500, 100)          1000000   \n",
            "                                                                 \n",
            " lstm (LSTM)                 (None, 128)               117248    \n",
            "                                                                 \n",
            " dense (Dense)               (None, 1)                 129       \n",
            "                                                                 \n",
            "=================================================================\n",
            "Total params: 1,117,377\n",
            "Trainable params: 1,117,377\n",
            "Non-trainable params: 0\n",
            "_________________________________________________________________\n"
          ]
        }
      ]
    },
    {
      "cell_type": "code",
      "source": [
        "model1.compile('adam', 'binary_crossentropy', ['accuracy'])\n",
        "\n",
        "model_path= 'best-imdb-lstm.h5'\n",
        "mc = ModelCheckpoint(model_path, save_best_only=True, verbose=1)\n",
        "es = EarlyStopping(patience=5)"
      ],
      "metadata": {
        "id": "OnSd5RYwCQzy"
      },
      "execution_count": 10,
      "outputs": []
    },
    {
      "cell_type": "code",
      "source": [
        "hist1 = model1.fit(\n",
        "    X_train, y_train, epochs=30, batch_size=64,\n",
        "    validation_data=[X_valid, y_valid],\n",
        "    callbacks=[mc,es]\n",
        ")"
      ],
      "metadata": {
        "colab": {
          "base_uri": "https://localhost:8080/"
        },
        "id": "6B9_1AeSCnE0",
        "outputId": "50aa5131-664a-48e0-b450-a52cf177e01d"
      },
      "execution_count": 11,
      "outputs": [
        {
          "output_type": "stream",
          "name": "stdout",
          "text": [
            "Epoch 1/30\n",
            "390/391 [============================>.] - ETA: 0s - loss: 0.4856 - accuracy: 0.7553\n",
            "Epoch 00001: val_loss improved from inf to 0.37119, saving model to best-imdb-lstm.h5\n",
            "391/391 [==============================] - 19s 34ms/step - loss: 0.4855 - accuracy: 0.7554 - val_loss: 0.3712 - val_accuracy: 0.8364\n",
            "Epoch 2/30\n",
            "391/391 [==============================] - ETA: 0s - loss: 0.2520 - accuracy: 0.9018\n",
            "Epoch 00002: val_loss improved from 0.37119 to 0.36383, saving model to best-imdb-lstm.h5\n",
            "391/391 [==============================] - 13s 34ms/step - loss: 0.2520 - accuracy: 0.9018 - val_loss: 0.3638 - val_accuracy: 0.8454\n",
            "Epoch 3/30\n",
            "391/391 [==============================] - ETA: 0s - loss: 0.2169 - accuracy: 0.9178\n",
            "Epoch 00003: val_loss improved from 0.36383 to 0.34854, saving model to best-imdb-lstm.h5\n",
            "391/391 [==============================] - 13s 33ms/step - loss: 0.2169 - accuracy: 0.9178 - val_loss: 0.3485 - val_accuracy: 0.8565\n",
            "Epoch 4/30\n",
            "391/391 [==============================] - ETA: 0s - loss: 0.1616 - accuracy: 0.9421\n",
            "Epoch 00004: val_loss did not improve from 0.34854\n",
            "391/391 [==============================] - 15s 37ms/step - loss: 0.1616 - accuracy: 0.9421 - val_loss: 0.3490 - val_accuracy: 0.8658\n",
            "Epoch 5/30\n",
            "391/391 [==============================] - ETA: 0s - loss: 0.1414 - accuracy: 0.9487\n",
            "Epoch 00005: val_loss did not improve from 0.34854\n",
            "391/391 [==============================] - 13s 33ms/step - loss: 0.1414 - accuracy: 0.9487 - val_loss: 0.3921 - val_accuracy: 0.8586\n",
            "Epoch 6/30\n",
            "391/391 [==============================] - ETA: 0s - loss: 0.1787 - accuracy: 0.9294\n",
            "Epoch 00006: val_loss did not improve from 0.34854\n",
            "391/391 [==============================] - 13s 33ms/step - loss: 0.1787 - accuracy: 0.9294 - val_loss: 0.4383 - val_accuracy: 0.8640\n",
            "Epoch 7/30\n",
            "391/391 [==============================] - ETA: 0s - loss: 0.0908 - accuracy: 0.9690\n",
            "Epoch 00007: val_loss did not improve from 0.34854\n",
            "391/391 [==============================] - 13s 33ms/step - loss: 0.0908 - accuracy: 0.9690 - val_loss: 0.4390 - val_accuracy: 0.8610\n",
            "Epoch 8/30\n",
            "391/391 [==============================] - ETA: 0s - loss: 0.0656 - accuracy: 0.9783\n",
            "Epoch 00008: val_loss did not improve from 0.34854\n",
            "391/391 [==============================] - 13s 33ms/step - loss: 0.0656 - accuracy: 0.9783 - val_loss: 0.5035 - val_accuracy: 0.8600\n"
          ]
        }
      ]
    },
    {
      "cell_type": "code",
      "source": [
        "best_model = load_model(model_path)\n",
        "best_model.evaluate(X_test, y_test)"
      ],
      "metadata": {
        "colab": {
          "base_uri": "https://localhost:8080/"
        },
        "id": "fG5TayD3D88G",
        "outputId": "78e4b3c2-358a-4f97-ceee-07a3856cc018"
      },
      "execution_count": 12,
      "outputs": [
        {
          "output_type": "stream",
          "name": "stdout",
          "text": [
            "469/469 [==============================] - 5s 11ms/step - loss: 0.3445 - accuracy: 0.8567\n"
          ]
        },
        {
          "output_type": "execute_result",
          "data": {
            "text/plain": [
              "[0.34449514746665955, 0.8566666841506958]"
            ]
          },
          "metadata": {},
          "execution_count": 12
        }
      ]
    }
  ]
}