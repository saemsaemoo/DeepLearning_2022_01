{
  "nbformat": 4,
  "nbformat_minor": 0,
  "metadata": {
    "colab": {
      "name": "21.Word2Vec_영어.ipynb",
      "provenance": [],
      "collapsed_sections": []
    },
    "kernelspec": {
      "name": "python3",
      "display_name": "Python 3"
    },
    "language_info": {
      "name": "python"
    }
  },
  "cells": [
    {
      "cell_type": "code",
      "execution_count": 2,
      "metadata": {
        "colab": {
          "base_uri": "https://localhost:8080/"
        },
        "id": "iiqv1zIlwXQV",
        "outputId": "32115569-0b0f-40b1-8eb5-ff817ae8e1bc"
      },
      "outputs": [
        {
          "output_type": "stream",
          "name": "stdout",
          "text": [
            "[nltk_data] Downloading package punkt to /root/nltk_data...\n",
            "[nltk_data]   Unzipping tokenizers/punkt.zip.\n"
          ]
        },
        {
          "output_type": "execute_result",
          "data": {
            "text/plain": [
              "True"
            ]
          },
          "metadata": {},
          "execution_count": 2
        }
      ],
      "source": [
        "import nltk\n",
        "nltk.download('punkt')"
      ]
    },
    {
      "cell_type": "code",
      "source": [
        "import re, zipfile\n",
        "from urllib.request import urlretrieve\n",
        "from lxml import etree\n",
        "from nltk.tokenize import word_tokenize, sent_tokenize"
      ],
      "metadata": {
        "id": "FWQzn57nwe11"
      },
      "execution_count": 3,
      "outputs": []
    },
    {
      "cell_type": "markdown",
      "source": [
        "- 훈련 데이터 이해하기"
      ],
      "metadata": {
        "id": "4eZdTOB0xEn-"
      }
    },
    {
      "cell_type": "code",
      "source": [
        "urlretrieve(\"https://raw.githubusercontent.com/ukairia777/tensorflow-nlp-tutorial/main/09.%20Word%20Embedding/dataset/ted_en-20160408.xml\", filename=\"ted_en-20160408.xml\")"
      ],
      "metadata": {
        "colab": {
          "base_uri": "https://localhost:8080/"
        },
        "id": "knDQDPXOxEMA",
        "outputId": "2650628a-91a1-4c68-d428-6c09b479b25f"
      },
      "execution_count": 4,
      "outputs": [
        {
          "output_type": "execute_result",
          "data": {
            "text/plain": [
              "('ted_en-20160408.xml', <http.client.HTTPMessage at 0x7ff8f0573750>)"
            ]
          },
          "metadata": {},
          "execution_count": 4
        }
      ]
    },
    {
      "cell_type": "code",
      "source": [
        "!ls -l ted*"
      ],
      "metadata": {
        "colab": {
          "base_uri": "https://localhost:8080/"
        },
        "id": "0jY60L1DxHcB",
        "outputId": "0f133e96-30fd-4c05-b1ef-258fd879c8f7"
      },
      "execution_count": 5,
      "outputs": [
        {
          "output_type": "stream",
          "name": "stdout",
          "text": [
            "-rw-r--r-- 1 root root 74533638 Jan 25 01:05 ted_en-20160408.xml\n"
          ]
        }
      ]
    },
    {
      "cell_type": "code",
      "source": [
        "!more ted*\n",
        "# !more :ted라고 하는 파일 내용을 한 페이지씩 읽음"
      ],
      "metadata": {
        "colab": {
          "base_uri": "https://localhost:8080/"
        },
        "id": "rm3YBknKxPSn",
        "outputId": "e3904e7c-5579-4c9b-db95-dd3c270d2bd2"
      },
      "execution_count": 6,
      "outputs": [
        {
          "output_type": "stream",
          "name": "stdout",
          "text": [
            "<?xml version=\"1.0\" encoding=\"UTF-8\"?>\n",
            "<xml language=\"en\"><file id=\"1\">\n",
            "  <head>\n",
            "    <url>http://www.ted.com/talks/knut_haanaes_two_reasons_companies_fail_and_ho\n",
            "w_to_avoid_them</url>\n",
            "    <pagesize>72832</pagesize>\n",
            "    <dtime>Fri Apr 01 00:57:03 CEST 2016</dtime>\n",
            "    <encoding>UTF-8</encoding>\n",
            "    <content-type>text/html; charset=utf-8</content-type>\n",
            "    <keywords>talks, business, creativity, curiosity, goal-setting, innovation, \n",
            "motivation, potential, success, work</keywords>\n",
            "    <speaker>Knut Haanaes</speaker>\n",
            "    <talkid>2470</talkid>\n",
            "    <videourl>http://download.ted.com/talks/KnutHaanaes_2015S.mp4</videourl>\n",
            "    <videopath>talks/KnutHaanaes_2015S.mp4</videopath>\n",
            "    <date>2015/06/30</date>\n",
            "    <title>Knut Haanaes: Two reasons companies fail -- and how to avoid them</ti\n",
            "tle>\n",
            "    <description>TED Talk Subtitles and Transcript: Is it possible to run a comp\n",
            "any and reinvent it at the same time? For business strategist Knut Haanaes, the \n",
            "ability to innovate after becoming successful is the mark of a great organizatio\n",
            "n. He shares insights on how to strike a balance between perfecting what we alre\n",
            "ady know and exploring totally new ideas -- and lays out how to avoid two major \n",
            "\u001b[K"
          ]
        }
      ]
    },
    {
      "cell_type": "markdown",
      "source": [
        "### 훈련 데이터 전처리하기"
      ],
      "metadata": {
        "id": "X06tP3uRx73w"
      }
    },
    {
      "cell_type": "code",
      "source": [
        "targetXML = open('ted_en-20160408.xml', 'r', encoding='UTF8')\n",
        "target_text = etree.parse(targetXML)"
      ],
      "metadata": {
        "id": "j179zFq4xiLx"
      },
      "execution_count": 7,
      "outputs": []
    },
    {
      "cell_type": "code",
      "source": [
        "# xml 파일로부터 <content>와 </content> 사이의 내용만 가져온다.\n",
        "parse_text = '\\n'.join(target_text.xpath('//content/text()'))"
      ],
      "metadata": {
        "id": "1Sh2QHykyvaL"
      },
      "execution_count": 8,
      "outputs": []
    },
    {
      "cell_type": "code",
      "source": [
        "# 정규 표현식의 sub 모듈을 통해 content 중간에 등장하는 (Audio), (Laughter) 등의 배경음 부분을 제거.\n",
        "# 해당 코드는 괄호로 구성된 내용을 제거.\n",
        "content_text = re.sub(r'\\([^)]*\\)', '', parse_text)"
      ],
      "metadata": {
        "id": "qAp2AU4syISk"
      },
      "execution_count": 9,
      "outputs": []
    },
    {
      "cell_type": "code",
      "source": [
        "# 입력 코퍼스에 대해서 NLTK를 이용하여 문장 토큰화를 수행.\n",
        "sent_text = sent_tokenize(content_text)"
      ],
      "metadata": {
        "id": "89Z3F9S_yxeN"
      },
      "execution_count": 10,
      "outputs": []
    },
    {
      "cell_type": "code",
      "source": [
        "# 각 문장에 대해서 구두점을 제거하고, 대문자를 소문자로 변환.\n",
        "normalized_text = []\n",
        "for string in sent_text:\n",
        "     tokens = re.sub(r\"[^a-z0-9]+\", \" \", string.lower())\n",
        "     normalized_text.append(tokens)"
      ],
      "metadata": {
        "id": "SlmBcBZiy0Ea"
      },
      "execution_count": 11,
      "outputs": []
    },
    {
      "cell_type": "code",
      "source": [
        "# 각 문장에 대해서 NLTK를 이용하여 단어 토큰화를 수행.\n",
        "result = [word_tokenize(sentence) for sentence in normalized_text]"
      ],
      "metadata": {
        "id": "jOfzAmf0zyRc"
      },
      "execution_count": 12,
      "outputs": []
    },
    {
      "cell_type": "code",
      "source": [
        "print('총 샘플의 개수 : {}'.format(len(result)))"
      ],
      "metadata": {
        "colab": {
          "base_uri": "https://localhost:8080/"
        },
        "id": "6bMqJBp1z0d_",
        "outputId": "15ef5567-c74d-4595-afa4-760c599f9687"
      },
      "execution_count": 13,
      "outputs": [
        {
          "output_type": "stream",
          "name": "stdout",
          "text": [
            "총 샘플의 개수 : 273424\n"
          ]
        }
      ]
    },
    {
      "cell_type": "code",
      "source": [
        "for line in result[:3]:\n",
        "    print(line)"
      ],
      "metadata": {
        "colab": {
          "base_uri": "https://localhost:8080/"
        },
        "id": "dLPWVnQD0xP1",
        "outputId": "90232f63-c8df-4dcf-80d9-c8bd3c41d920"
      },
      "execution_count": 16,
      "outputs": [
        {
          "output_type": "stream",
          "name": "stdout",
          "text": [
            "['here', 'are', 'two', 'reasons', 'companies', 'fail', 'they', 'only', 'do', 'more', 'of', 'the', 'same', 'or', 'they', 'only', 'do', 'what', 's', 'new']\n",
            "['to', 'me', 'the', 'real', 'real', 'solution', 'to', 'quality', 'growth', 'is', 'figuring', 'out', 'the', 'balance', 'between', 'two', 'activities', 'exploration', 'and', 'exploitation']\n",
            "['both', 'are', 'necessary', 'but', 'it', 'can', 'be', 'too', 'much', 'of', 'a', 'good', 'thing']\n"
          ]
        }
      ]
    },
    {
      "cell_type": "markdown",
      "source": [
        "### Word2Vec 훈련시키기\n",
        "\n",
        "size = 워드 벡터의 특징 값. 즉, 임베딩 된 벡터의 차원.\n",
        "window = 컨텍스트 윈도우 크기\n",
        "min_count = 단어 최소 빈도 수 제한 (빈도가 적은 단어들은 학습하지 않는다.)\n",
        "workers = 학습을 위한 프로세스 수\n",
        "sg = 0은 CBOW, 1은 Skip-gram.\n",
        "\n",
        "\n",
        "\n"
      ],
      "metadata": {
        "id": "aZMbFbmS0i_c"
      }
    },
    {
      "cell_type": "code",
      "source": [
        "from gensim.models import Word2Vec\n",
        "from gensim.models import KeyedVectors"
      ],
      "metadata": {
        "id": "FfJSt-7mz966"
      },
      "execution_count": 17,
      "outputs": []
    },
    {
      "cell_type": "code",
      "source": [
        "%time model = Word2Vec(sentences=result, size=100, window=5, min_count=5, workers=4, sg=0)\n",
        "# 100 차원"
      ],
      "metadata": {
        "colab": {
          "base_uri": "https://localhost:8080/"
        },
        "id": "a8arxiYU0uA4",
        "outputId": "5c7321cb-199f-401e-ad2b-6600dff458e1"
      },
      "execution_count": 19,
      "outputs": [
        {
          "output_type": "stream",
          "name": "stdout",
          "text": [
            "CPU times: user 57.6 s, sys: 300 ms, total: 57.9 s\n",
            "Wall time: 33.6 s\n"
          ]
        }
      ]
    },
    {
      "cell_type": "code",
      "source": [
        "# man과 자주 나오는 단어 10개 (similar)\n",
        "model.wv.most_similar(\"man\")"
      ],
      "metadata": {
        "colab": {
          "base_uri": "https://localhost:8080/"
        },
        "id": "hcEDtjF-0-XN",
        "outputId": "98bfeb16-c3db-4037-eb2c-92d8d725ec34"
      },
      "execution_count": 20,
      "outputs": [
        {
          "output_type": "execute_result",
          "data": {
            "text/plain": [
              "[('woman', 0.8619276285171509),\n",
              " ('guy', 0.8066451549530029),\n",
              " ('lady', 0.7892319560050964),\n",
              " ('boy', 0.7717772126197815),\n",
              " ('girl', 0.7648622989654541),\n",
              " ('gentleman', 0.7580167055130005),\n",
              " ('kid', 0.7448303699493408),\n",
              " ('soldier', 0.7210999727249146),\n",
              " ('friend', 0.6928797364234924),\n",
              " ('poet', 0.6659115552902222)]"
            ]
          },
          "metadata": {},
          "execution_count": 20
        }
      ]
    },
    {
      "cell_type": "code",
      "source": [
        "# man - boy + girl --> woman\n",
        "model.wv.most_similar(positive=['man','girl'], negative=['boy'], topn=3)"
      ],
      "metadata": {
        "colab": {
          "base_uri": "https://localhost:8080/"
        },
        "id": "nckWWzOj1gVS",
        "outputId": "197f4e4d-5740-47b7-ca3b-7e1d5b50e5ea"
      },
      "execution_count": 21,
      "outputs": [
        {
          "output_type": "execute_result",
          "data": {
            "text/plain": [
              "[('woman', 0.8449777364730835),\n",
              " ('lady', 0.753880500793457),\n",
              " ('guy', 0.7301398515701294)]"
            ]
          },
          "metadata": {},
          "execution_count": 21
        }
      ]
    },
    {
      "cell_type": "markdown",
      "source": [
        "- 모델 저장하고 로드하기"
      ],
      "metadata": {
        "id": "jL-End3S2pRC"
      }
    },
    {
      "cell_type": "code",
      "source": [
        "model.wv.save_word2vec_format('eng_w2v') # 모델 저장"
      ],
      "metadata": {
        "id": "7W7F7sAO2LEe"
      },
      "execution_count": 22,
      "outputs": []
    },
    {
      "cell_type": "code",
      "source": [
        "!ls -l"
      ],
      "metadata": {
        "colab": {
          "base_uri": "https://localhost:8080/"
        },
        "id": "um3W2bSw2w_z",
        "outputId": "95eb763d-329b-487a-8b09-2b684860a040"
      },
      "execution_count": 23,
      "outputs": [
        {
          "output_type": "stream",
          "name": "stdout",
          "text": [
            "total 97880\n",
            "-rw-r--r-- 1 root root 25687401 Jan 25 01:30 eng_w2v\n",
            "drwxr-xr-x 1 root root     4096 Jan  7 14:33 sample_data\n",
            "-rw-r--r-- 1 root root 74533638 Jan 25 01:05 ted_en-20160408.xml\n"
          ]
        }
      ]
    },
    {
      "cell_type": "code",
      "source": [
        "from gensim.models import KeyedVectors\n",
        "\n",
        "loaded_model = KeyedVectors.load_word2vec_format(\"eng_w2v\") # 모델 로드\n",
        "loaded_model.most_similar(\"man\")"
      ],
      "metadata": {
        "colab": {
          "base_uri": "https://localhost:8080/"
        },
        "id": "HDpgW2mR2zJv",
        "outputId": "00772299-7234-4e1c-a44e-f788225e7de2"
      },
      "execution_count": 24,
      "outputs": [
        {
          "output_type": "execute_result",
          "data": {
            "text/plain": [
              "[('woman', 0.8619276285171509),\n",
              " ('guy', 0.8066451549530029),\n",
              " ('lady', 0.7892319560050964),\n",
              " ('boy', 0.7717772126197815),\n",
              " ('girl', 0.7648622989654541),\n",
              " ('gentleman', 0.7580167055130005),\n",
              " ('kid', 0.7448303699493408),\n",
              " ('soldier', 0.7210999727249146),\n",
              " ('friend', 0.6928797364234924),\n",
              " ('poet', 0.6659115552902222)]"
            ]
          },
          "metadata": {},
          "execution_count": 24
        }
      ]
    },
    {
      "cell_type": "code",
      "source": [
        ""
      ],
      "metadata": {
        "id": "pkHIvJTU3GeU"
      },
      "execution_count": null,
      "outputs": []
    }
  ]
}